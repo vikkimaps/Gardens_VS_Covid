{
 "cells": [
  {
   "cell_type": "markdown",
   "id": "881293bd-32b7-4821-b869-7e7312cf666f",
   "metadata": {},
   "source": [
    "# Sorting Greenspace Data"
   ]
  },
  {
   "cell_type": "markdown",
   "id": "8412a6d8-6cb2-4205-b18e-69033e262f20",
   "metadata": {},
   "source": [
    "Data is loaded in at LSOA level. Greenspace data was downloaded as individual polygons from OS. Greenspace was divided up into 4 types: natural, parks, sports, others. It was intersected with LSOAs, to identify which greenspaces fell within each LSOA. This now needs to be aggregated, to calculate the amount of greenspace within each LSOA."
   ]
  },
  {
   "cell_type": "markdown",
   "id": "533ef06f-7d0e-45e4-a7d8-3e8b3d9be24b",
   "metadata": {},
   "source": [
    "1. Separate out into 4 types\n",
    "2. Dissolve, to remove overlapping polygons\n",
    "3. Intersect with LSOAs\n",
    "4. Calculate areas\n",
    "5. Export as csv\n",
    "6. Load into Python\n",
    "7. Aggregate to LSOA\n",
    "8. Join back up with LSOA geometry\n",
    "9. Calculate proportions"
   ]
  },
  {
   "cell_type": "markdown",
   "id": "1ee4d9d0-cfc6-4548-bef1-bf21e94b35a7",
   "metadata": {},
   "source": [
    "## Reading in Data"
   ]
  },
  {
   "cell_type": "code",
   "execution_count": 1,
   "id": "4790b0f6-2fa8-41ff-9998-b69e323091e0",
   "metadata": {},
   "outputs": [
    {
     "name": "stderr",
     "output_type": "stream",
     "text": [
      "/Users/vikki/opt/anaconda3/lib/python3.8/site-packages/geopandas/_compat.py:106: UserWarning: The Shapely GEOS version (3.8.0-CAPI-1.13.1 ) is incompatible with the GEOS version PyGEOS was compiled with (3.9.1-CAPI-1.14.2). Conversions between both will be slow.\n",
      "  warnings.warn(\n"
     ]
    }
   ],
   "source": [
    "import pandas as pd \n",
    "import numba\n",
    "import seaborn as sns \n",
    "import matplotlib.pyplot as plt\n",
    "import geopandas as gpd\n",
    "import palettable as pltt\n",
    "import descartes\n",
    "from pysal.viz import mapclassify \n",
    "import numpy as np\n",
    "import statsmodels.api as sm\n",
    "import scipy.stats as stats"
   ]
  },
  {
   "cell_type": "code",
   "execution_count": 2,
   "id": "b75a9272-639e-45dd-bf36-86ffb0349082",
   "metadata": {},
   "outputs": [],
   "source": [
    "import shapely\n",
    "import rtree\n",
    "from shapely.geometry import Polygon"
   ]
  },
  {
   "cell_type": "code",
   "execution_count": 3,
   "id": "6b4723b0-cb8b-4d23-80a3-d6adc0b51a7d",
   "metadata": {},
   "outputs": [],
   "source": [
    "parks = gpd.read_file('GS_Parks.shp')"
   ]
  },
  {
   "cell_type": "code",
   "execution_count": 4,
   "id": "4d16c046-00e4-4309-a65e-fa1296d4c359",
   "metadata": {},
   "outputs": [
    {
     "data": {
      "text/html": [
       "<div>\n",
       "<style scoped>\n",
       "    .dataframe tbody tr th:only-of-type {\n",
       "        vertical-align: middle;\n",
       "    }\n",
       "\n",
       "    .dataframe tbody tr th {\n",
       "        vertical-align: top;\n",
       "    }\n",
       "\n",
       "    .dataframe thead th {\n",
       "        text-align: right;\n",
       "    }\n",
       "</style>\n",
       "<table border=\"1\" class=\"dataframe\">\n",
       "  <thead>\n",
       "    <tr style=\"text-align: right;\">\n",
       "      <th></th>\n",
       "      <th>priFunc</th>\n",
       "      <th>Type</th>\n",
       "      <th>OBJECTID</th>\n",
       "      <th>Area</th>\n",
       "      <th>geometry</th>\n",
       "    </tr>\n",
       "  </thead>\n",
       "  <tbody>\n",
       "    <tr>\n",
       "      <th>0</th>\n",
       "      <td>Public Park Or Garden</td>\n",
       "      <td>Park</td>\n",
       "      <td>NaN</td>\n",
       "      <td>16.76488</td>\n",
       "      <td>POLYGON Z ((399649.300 653037.950 0.000, 39964...</td>\n",
       "    </tr>\n",
       "    <tr>\n",
       "      <th>1</th>\n",
       "      <td>Public Park Or Garden</td>\n",
       "      <td>Park</td>\n",
       "      <td>NaN</td>\n",
       "      <td>169.02260</td>\n",
       "      <td>POLYGON Z ((399664.550 653075.840 0.000, 39967...</td>\n",
       "    </tr>\n",
       "    <tr>\n",
       "      <th>2</th>\n",
       "      <td>Public Park Or Garden</td>\n",
       "      <td>Park</td>\n",
       "      <td>NaN</td>\n",
       "      <td>202.42683</td>\n",
       "      <td>POLYGON Z ((399686.900 653074.660 0.000, 39968...</td>\n",
       "    </tr>\n",
       "    <tr>\n",
       "      <th>3</th>\n",
       "      <td>Public Park Or Garden</td>\n",
       "      <td>Park</td>\n",
       "      <td>NaN</td>\n",
       "      <td>10.07841</td>\n",
       "      <td>POLYGON Z ((399665.160 653076.510 0.000, 39967...</td>\n",
       "    </tr>\n",
       "    <tr>\n",
       "      <th>4</th>\n",
       "      <td>Public Park Or Garden</td>\n",
       "      <td>Park</td>\n",
       "      <td>NaN</td>\n",
       "      <td>89.11763</td>\n",
       "      <td>POLYGON Z ((399665.160 653076.510 0.000, 39967...</td>\n",
       "    </tr>\n",
       "  </tbody>\n",
       "</table>\n",
       "</div>"
      ],
      "text/plain": [
       "                 priFunc  Type  OBJECTID       Area  \\\n",
       "0  Public Park Or Garden  Park       NaN   16.76488   \n",
       "1  Public Park Or Garden  Park       NaN  169.02260   \n",
       "2  Public Park Or Garden  Park       NaN  202.42683   \n",
       "3  Public Park Or Garden  Park       NaN   10.07841   \n",
       "4  Public Park Or Garden  Park       NaN   89.11763   \n",
       "\n",
       "                                            geometry  \n",
       "0  POLYGON Z ((399649.300 653037.950 0.000, 39964...  \n",
       "1  POLYGON Z ((399664.550 653075.840 0.000, 39967...  \n",
       "2  POLYGON Z ((399686.900 653074.660 0.000, 39968...  \n",
       "3  POLYGON Z ((399665.160 653076.510 0.000, 39967...  \n",
       "4  POLYGON Z ((399665.160 653076.510 0.000, 39967...  "
      ]
     },
     "execution_count": 4,
     "metadata": {},
     "output_type": "execute_result"
    }
   ],
   "source": [
    "parks.head()"
   ]
  },
  {
   "cell_type": "code",
   "execution_count": 5,
   "id": "6d95e706-11b5-47f3-8097-9bff812185b3",
   "metadata": {},
   "outputs": [],
   "source": [
    "lsoas = gpd.read_file('LSOAs_fixed.shp')"
   ]
  },
  {
   "cell_type": "code",
   "execution_count": 6,
   "id": "67db5f06-c0b2-48e0-98ea-4930b860e957",
   "metadata": {},
   "outputs": [
    {
     "data": {
      "text/html": [
       "<div>\n",
       "<style scoped>\n",
       "    .dataframe tbody tr th:only-of-type {\n",
       "        vertical-align: middle;\n",
       "    }\n",
       "\n",
       "    .dataframe tbody tr th {\n",
       "        vertical-align: top;\n",
       "    }\n",
       "\n",
       "    .dataframe thead th {\n",
       "        text-align: right;\n",
       "    }\n",
       "</style>\n",
       "<table border=\"1\" class=\"dataframe\">\n",
       "  <thead>\n",
       "    <tr style=\"text-align: right;\">\n",
       "      <th></th>\n",
       "      <th>OBJECTID</th>\n",
       "      <th>LSOA11CD</th>\n",
       "      <th>LSOA11NM</th>\n",
       "      <th>LSOA11NMW</th>\n",
       "      <th>Shape__Are</th>\n",
       "      <th>Shape__Len</th>\n",
       "      <th>geometry</th>\n",
       "    </tr>\n",
       "  </thead>\n",
       "  <tbody>\n",
       "    <tr>\n",
       "      <th>0</th>\n",
       "      <td>1</td>\n",
       "      <td>E01000001</td>\n",
       "      <td>City of London 001A</td>\n",
       "      <td>City of London 001A</td>\n",
       "      <td>129865.337669</td>\n",
       "      <td>2635.781429</td>\n",
       "      <td>POLYGON ((532095.563 181577.351, 532095.125 18...</td>\n",
       "    </tr>\n",
       "    <tr>\n",
       "      <th>1</th>\n",
       "      <td>2</td>\n",
       "      <td>E01000002</td>\n",
       "      <td>City of London 001B</td>\n",
       "      <td>City of London 001B</td>\n",
       "      <td>228419.333099</td>\n",
       "      <td>2708.052040</td>\n",
       "      <td>POLYGON ((532267.728 181643.781, 532262.875 18...</td>\n",
       "    </tr>\n",
       "    <tr>\n",
       "      <th>2</th>\n",
       "      <td>3</td>\n",
       "      <td>E01000003</td>\n",
       "      <td>City of London 001C</td>\n",
       "      <td>City of London 001C</td>\n",
       "      <td>59054.013168</td>\n",
       "      <td>1224.770897</td>\n",
       "      <td>POLYGON ((532105.312 182010.574, 532104.872 18...</td>\n",
       "    </tr>\n",
       "    <tr>\n",
       "      <th>3</th>\n",
       "      <td>4</td>\n",
       "      <td>E01000005</td>\n",
       "      <td>City of London 001E</td>\n",
       "      <td>City of London 001E</td>\n",
       "      <td>189577.165154</td>\n",
       "      <td>2275.832056</td>\n",
       "      <td>POLYGON ((533610.974 181410.968, 533615.622 18...</td>\n",
       "    </tr>\n",
       "    <tr>\n",
       "      <th>4</th>\n",
       "      <td>5</td>\n",
       "      <td>E01000006</td>\n",
       "      <td>Barking and Dagenham 016A</td>\n",
       "      <td>Barking and Dagenham 016A</td>\n",
       "      <td>146536.520470</td>\n",
       "      <td>1966.162225</td>\n",
       "      <td>POLYGON ((544817.826 184346.261, 544815.791 18...</td>\n",
       "    </tr>\n",
       "  </tbody>\n",
       "</table>\n",
       "</div>"
      ],
      "text/plain": [
       "   OBJECTID   LSOA11CD                   LSOA11NM                  LSOA11NMW  \\\n",
       "0         1  E01000001        City of London 001A        City of London 001A   \n",
       "1         2  E01000002        City of London 001B        City of London 001B   \n",
       "2         3  E01000003        City of London 001C        City of London 001C   \n",
       "3         4  E01000005        City of London 001E        City of London 001E   \n",
       "4         5  E01000006  Barking and Dagenham 016A  Barking and Dagenham 016A   \n",
       "\n",
       "      Shape__Are   Shape__Len  \\\n",
       "0  129865.337669  2635.781429   \n",
       "1  228419.333099  2708.052040   \n",
       "2   59054.013168  1224.770897   \n",
       "3  189577.165154  2275.832056   \n",
       "4  146536.520470  1966.162225   \n",
       "\n",
       "                                            geometry  \n",
       "0  POLYGON ((532095.563 181577.351, 532095.125 18...  \n",
       "1  POLYGON ((532267.728 181643.781, 532262.875 18...  \n",
       "2  POLYGON ((532105.312 182010.574, 532104.872 18...  \n",
       "3  POLYGON ((533610.974 181410.968, 533615.622 18...  \n",
       "4  POLYGON ((544817.826 184346.261, 544815.791 18...  "
      ]
     },
     "execution_count": 6,
     "metadata": {},
     "output_type": "execute_result"
    }
   ],
   "source": [
    "lsoas.head()"
   ]
  },
  {
   "cell_type": "markdown",
   "id": "bc9052b2-932e-4d7b-855b-f94d1ee81419",
   "metadata": {},
   "source": [
    "<BR><BR><BR>\n",
    "    \n",
    "## Dissolve the greenspace polygons"
   ]
  },
  {
   "cell_type": "code",
   "execution_count": 7,
   "id": "de168876-7a55-4a84-a032-34d1adec40e6",
   "metadata": {},
   "outputs": [],
   "source": [
    "#Leeds['outline'] = 1\n",
    "parks_outline = parks.dissolve()"
   ]
  },
  {
   "cell_type": "code",
   "execution_count": null,
   "id": "5e505aca-646f-4083-ad84-b2bbb962406a",
   "metadata": {},
   "outputs": [],
   "source": [
    "#check it worked\n",
    "parks_outline.head()"
   ]
  },
  {
   "cell_type": "code",
   "execution_count": null,
   "id": "a0eb410d-d1a9-42f5-973f-5a0545761a5f",
   "metadata": {},
   "outputs": [],
   "source": [
    "#save the dissolved polygons\n",
    "parks_outline.to_file('Parks_outline.shp')"
   ]
  },
  {
   "cell_type": "code",
   "execution_count": null,
   "id": "3dcb3416-411e-4ded-a128-f6ce4f393631",
   "metadata": {},
   "outputs": [],
   "source": [
    "#read back in the dissolved polygons"
   ]
  },
  {
   "cell_type": "markdown",
   "id": "3ac03b78-ef54-4415-a0bb-d1672e1f0550",
   "metadata": {},
   "source": [
    "<br><br><br>\n",
    "\n",
    "## Intersect LSOAs with parks"
   ]
  },
  {
   "cell_type": "code",
   "execution_count": null,
   "id": "925c0cc0-f5f0-44c1-8541-9cb5200eeb55",
   "metadata": {},
   "outputs": [],
   "source": [
    "lsoas_parks_int = gpd.overlay(lsoas, parks_outline, how='intersection')\n",
    "\n"
   ]
  },
  {
   "cell_type": "code",
   "execution_count": null,
   "id": "5fa37ced-df25-4a64-ac33-0bce80fbeff9",
   "metadata": {},
   "outputs": [],
   "source": [
    "print('hello')"
   ]
  },
  {
   "cell_type": "code",
   "execution_count": 3,
   "id": "0bd90ade-5fcc-4a2b-8c8c-a0a215b53464",
   "metadata": {},
   "outputs": [],
   "source": [
    "sports = pd.read_csv('LSOA_Sports.csv')"
   ]
  },
  {
   "cell_type": "code",
   "execution_count": 4,
   "id": "1a0de59d-7728-49aa-bd76-5ab0a06c6650",
   "metadata": {},
   "outputs": [
    {
     "data": {
      "text/html": [
       "<div>\n",
       "<style scoped>\n",
       "    .dataframe tbody tr th:only-of-type {\n",
       "        vertical-align: middle;\n",
       "    }\n",
       "\n",
       "    .dataframe tbody tr th {\n",
       "        vertical-align: top;\n",
       "    }\n",
       "\n",
       "    .dataframe thead th {\n",
       "        text-align: right;\n",
       "    }\n",
       "</style>\n",
       "<table border=\"1\" class=\"dataframe\">\n",
       "  <thead>\n",
       "    <tr style=\"text-align: right;\">\n",
       "      <th></th>\n",
       "      <th>OBJECTID</th>\n",
       "      <th>LSOA11CD</th>\n",
       "      <th>LSOA11NM</th>\n",
       "      <th>LSOA11NMW</th>\n",
       "      <th>Shape__Are</th>\n",
       "      <th>Shape__Len</th>\n",
       "      <th>priFunc</th>\n",
       "      <th>Type</th>\n",
       "      <th>OBJECTID_2</th>\n",
       "      <th>Area</th>\n",
       "    </tr>\n",
       "  </thead>\n",
       "  <tbody>\n",
       "    <tr>\n",
       "      <th>0</th>\n",
       "      <td>1</td>\n",
       "      <td>E01000001</td>\n",
       "      <td>City of London 001A</td>\n",
       "      <td>City of London 001A</td>\n",
       "      <td>129865.337669</td>\n",
       "      <td>2635.781429</td>\n",
       "      <td>Other Sports Facility</td>\n",
       "      <td>Sports</td>\n",
       "      <td>244444.0</td>\n",
       "      <td>1452.36345</td>\n",
       "    </tr>\n",
       "    <tr>\n",
       "      <th>1</th>\n",
       "      <td>1</td>\n",
       "      <td>E01000001</td>\n",
       "      <td>City of London 001A</td>\n",
       "      <td>City of London 001A</td>\n",
       "      <td>129865.337669</td>\n",
       "      <td>2635.781429</td>\n",
       "      <td>Tennis Court</td>\n",
       "      <td>Sports</td>\n",
       "      <td>244600.0</td>\n",
       "      <td>1083.82321</td>\n",
       "    </tr>\n",
       "    <tr>\n",
       "      <th>2</th>\n",
       "      <td>3</td>\n",
       "      <td>E01000003</td>\n",
       "      <td>City of London 001C</td>\n",
       "      <td>City of London 001C</td>\n",
       "      <td>59054.013168</td>\n",
       "      <td>1224.770897</td>\n",
       "      <td>Other Sports Facility</td>\n",
       "      <td>Sports</td>\n",
       "      <td>243763.0</td>\n",
       "      <td>404.91844</td>\n",
       "    </tr>\n",
       "    <tr>\n",
       "      <th>3</th>\n",
       "      <td>3</td>\n",
       "      <td>E01000003</td>\n",
       "      <td>City of London 001C</td>\n",
       "      <td>City of London 001C</td>\n",
       "      <td>59054.013168</td>\n",
       "      <td>1224.770897</td>\n",
       "      <td>Other Sports Facility</td>\n",
       "      <td>Sports</td>\n",
       "      <td>243764.0</td>\n",
       "      <td>11.38765</td>\n",
       "    </tr>\n",
       "    <tr>\n",
       "      <th>4</th>\n",
       "      <td>3</td>\n",
       "      <td>E01000003</td>\n",
       "      <td>City of London 001C</td>\n",
       "      <td>City of London 001C</td>\n",
       "      <td>59054.013168</td>\n",
       "      <td>1224.770897</td>\n",
       "      <td>Other Sports Facility</td>\n",
       "      <td>Sports</td>\n",
       "      <td>243765.0</td>\n",
       "      <td>60.95829</td>\n",
       "    </tr>\n",
       "  </tbody>\n",
       "</table>\n",
       "</div>"
      ],
      "text/plain": [
       "   OBJECTID   LSOA11CD             LSOA11NM            LSOA11NMW  \\\n",
       "0         1  E01000001  City of London 001A  City of London 001A   \n",
       "1         1  E01000001  City of London 001A  City of London 001A   \n",
       "2         3  E01000003  City of London 001C  City of London 001C   \n",
       "3         3  E01000003  City of London 001C  City of London 001C   \n",
       "4         3  E01000003  City of London 001C  City of London 001C   \n",
       "\n",
       "      Shape__Are   Shape__Len                priFunc    Type  OBJECTID_2  \\\n",
       "0  129865.337669  2635.781429  Other Sports Facility  Sports    244444.0   \n",
       "1  129865.337669  2635.781429           Tennis Court  Sports    244600.0   \n",
       "2   59054.013168  1224.770897  Other Sports Facility  Sports    243763.0   \n",
       "3   59054.013168  1224.770897  Other Sports Facility  Sports    243764.0   \n",
       "4   59054.013168  1224.770897  Other Sports Facility  Sports    243765.0   \n",
       "\n",
       "         Area  \n",
       "0  1452.36345  \n",
       "1  1083.82321  \n",
       "2   404.91844  \n",
       "3    11.38765  \n",
       "4    60.95829  "
      ]
     },
     "execution_count": 4,
     "metadata": {},
     "output_type": "execute_result"
    }
   ],
   "source": [
    "sports.head()"
   ]
  },
  {
   "cell_type": "code",
   "execution_count": 6,
   "id": "cd42fbbe-5d8e-4cba-a11b-3d9cbbd97004",
   "metadata": {},
   "outputs": [],
   "source": [
    "natural = pd.read_csv('LSOA_Natural.csv')"
   ]
  },
  {
   "cell_type": "code",
   "execution_count": 7,
   "id": "b4062119-72db-480d-9b75-684d9e67de0f",
   "metadata": {},
   "outputs": [
    {
     "data": {
      "text/html": [
       "<div>\n",
       "<style scoped>\n",
       "    .dataframe tbody tr th:only-of-type {\n",
       "        vertical-align: middle;\n",
       "    }\n",
       "\n",
       "    .dataframe tbody tr th {\n",
       "        vertical-align: top;\n",
       "    }\n",
       "\n",
       "    .dataframe thead th {\n",
       "        text-align: right;\n",
       "    }\n",
       "</style>\n",
       "<table border=\"1\" class=\"dataframe\">\n",
       "  <thead>\n",
       "    <tr style=\"text-align: right;\">\n",
       "      <th></th>\n",
       "      <th>OBJECTID</th>\n",
       "      <th>LSOA11CD</th>\n",
       "      <th>LSOA11NM</th>\n",
       "      <th>LSOA11NMW</th>\n",
       "      <th>Shape__Are</th>\n",
       "      <th>Shape__Len</th>\n",
       "      <th>priFunc</th>\n",
       "      <th>Type</th>\n",
       "      <th>OBJECTID_2</th>\n",
       "      <th>Area</th>\n",
       "    </tr>\n",
       "  </thead>\n",
       "  <tbody>\n",
       "    <tr>\n",
       "      <th>0</th>\n",
       "      <td>1</td>\n",
       "      <td>E01000001</td>\n",
       "      <td>City of London 001A</td>\n",
       "      <td>City of London 001A</td>\n",
       "      <td>129865.337669</td>\n",
       "      <td>2635.781429</td>\n",
       "      <td>Natural</td>\n",
       "      <td>Natural</td>\n",
       "      <td>244452.0</td>\n",
       "      <td>345.61772</td>\n",
       "    </tr>\n",
       "    <tr>\n",
       "      <th>1</th>\n",
       "      <td>1</td>\n",
       "      <td>E01000001</td>\n",
       "      <td>City of London 001A</td>\n",
       "      <td>City of London 001A</td>\n",
       "      <td>129865.337669</td>\n",
       "      <td>2635.781429</td>\n",
       "      <td>Natural</td>\n",
       "      <td>Natural</td>\n",
       "      <td>244454.0</td>\n",
       "      <td>1431.41810</td>\n",
       "    </tr>\n",
       "    <tr>\n",
       "      <th>2</th>\n",
       "      <td>2</td>\n",
       "      <td>E01000002</td>\n",
       "      <td>City of London 001B</td>\n",
       "      <td>City of London 001B</td>\n",
       "      <td>228419.333099</td>\n",
       "      <td>2708.052040</td>\n",
       "      <td>Natural</td>\n",
       "      <td>Natural</td>\n",
       "      <td>244452.0</td>\n",
       "      <td>345.61772</td>\n",
       "    </tr>\n",
       "    <tr>\n",
       "      <th>3</th>\n",
       "      <td>2</td>\n",
       "      <td>E01000002</td>\n",
       "      <td>City of London 001B</td>\n",
       "      <td>City of London 001B</td>\n",
       "      <td>228419.333099</td>\n",
       "      <td>2708.052040</td>\n",
       "      <td>Natural</td>\n",
       "      <td>Natural</td>\n",
       "      <td>244454.0</td>\n",
       "      <td>1431.41810</td>\n",
       "    </tr>\n",
       "    <tr>\n",
       "      <th>4</th>\n",
       "      <td>2</td>\n",
       "      <td>E01000002</td>\n",
       "      <td>City of London 001B</td>\n",
       "      <td>City of London 001B</td>\n",
       "      <td>228419.333099</td>\n",
       "      <td>2708.052040</td>\n",
       "      <td>Natural</td>\n",
       "      <td>Natural</td>\n",
       "      <td>244456.0</td>\n",
       "      <td>13.45620</td>\n",
       "    </tr>\n",
       "  </tbody>\n",
       "</table>\n",
       "</div>"
      ],
      "text/plain": [
       "   OBJECTID   LSOA11CD             LSOA11NM            LSOA11NMW  \\\n",
       "0         1  E01000001  City of London 001A  City of London 001A   \n",
       "1         1  E01000001  City of London 001A  City of London 001A   \n",
       "2         2  E01000002  City of London 001B  City of London 001B   \n",
       "3         2  E01000002  City of London 001B  City of London 001B   \n",
       "4         2  E01000002  City of London 001B  City of London 001B   \n",
       "\n",
       "      Shape__Are   Shape__Len  priFunc     Type  OBJECTID_2        Area  \n",
       "0  129865.337669  2635.781429  Natural  Natural    244452.0   345.61772  \n",
       "1  129865.337669  2635.781429  Natural  Natural    244454.0  1431.41810  \n",
       "2  228419.333099  2708.052040  Natural  Natural    244452.0   345.61772  \n",
       "3  228419.333099  2708.052040  Natural  Natural    244454.0  1431.41810  \n",
       "4  228419.333099  2708.052040  Natural  Natural    244456.0    13.45620  "
      ]
     },
     "execution_count": 7,
     "metadata": {},
     "output_type": "execute_result"
    }
   ],
   "source": [
    "natural.head()"
   ]
  },
  {
   "cell_type": "code",
   "execution_count": 8,
   "id": "6034361f-994e-41ce-8172-31df571d044c",
   "metadata": {},
   "outputs": [],
   "source": [
    "parks = pd.read_csv('LSOA_Parks.csv')"
   ]
  },
  {
   "cell_type": "code",
   "execution_count": 9,
   "id": "da435f6c-501f-490f-a4de-29285975675e",
   "metadata": {},
   "outputs": [
    {
     "data": {
      "text/html": [
       "<div>\n",
       "<style scoped>\n",
       "    .dataframe tbody tr th:only-of-type {\n",
       "        vertical-align: middle;\n",
       "    }\n",
       "\n",
       "    .dataframe tbody tr th {\n",
       "        vertical-align: top;\n",
       "    }\n",
       "\n",
       "    .dataframe thead th {\n",
       "        text-align: right;\n",
       "    }\n",
       "</style>\n",
       "<table border=\"1\" class=\"dataframe\">\n",
       "  <thead>\n",
       "    <tr style=\"text-align: right;\">\n",
       "      <th></th>\n",
       "      <th>OBJECTID</th>\n",
       "      <th>LSOA11CD</th>\n",
       "      <th>LSOA11NM</th>\n",
       "      <th>LSOA11NMW</th>\n",
       "      <th>Shape__Are</th>\n",
       "      <th>Shape__Len</th>\n",
       "      <th>priFunc</th>\n",
       "      <th>Type</th>\n",
       "      <th>OBJECTID_2</th>\n",
       "      <th>Area</th>\n",
       "    </tr>\n",
       "  </thead>\n",
       "  <tbody>\n",
       "    <tr>\n",
       "      <th>0</th>\n",
       "      <td>1</td>\n",
       "      <td>E01000001</td>\n",
       "      <td>City of London 001A</td>\n",
       "      <td>City of London 001A</td>\n",
       "      <td>129865.337669</td>\n",
       "      <td>2635.781429</td>\n",
       "      <td>Public Park Or Garden</td>\n",
       "      <td>Park</td>\n",
       "      <td>244885.0</td>\n",
       "      <td>163.33355</td>\n",
       "    </tr>\n",
       "    <tr>\n",
       "      <th>1</th>\n",
       "      <td>1</td>\n",
       "      <td>E01000001</td>\n",
       "      <td>City of London 001A</td>\n",
       "      <td>City of London 001A</td>\n",
       "      <td>129865.337669</td>\n",
       "      <td>2635.781429</td>\n",
       "      <td>Public Park Or Garden</td>\n",
       "      <td>Park</td>\n",
       "      <td>244886.0</td>\n",
       "      <td>1176.13865</td>\n",
       "    </tr>\n",
       "    <tr>\n",
       "      <th>2</th>\n",
       "      <td>1</td>\n",
       "      <td>E01000001</td>\n",
       "      <td>City of London 001A</td>\n",
       "      <td>City of London 001A</td>\n",
       "      <td>129865.337669</td>\n",
       "      <td>2635.781429</td>\n",
       "      <td>Public Park Or Garden</td>\n",
       "      <td>Park</td>\n",
       "      <td>244887.0</td>\n",
       "      <td>404.31132</td>\n",
       "    </tr>\n",
       "    <tr>\n",
       "      <th>3</th>\n",
       "      <td>1</td>\n",
       "      <td>E01000001</td>\n",
       "      <td>City of London 001A</td>\n",
       "      <td>City of London 001A</td>\n",
       "      <td>129865.337669</td>\n",
       "      <td>2635.781429</td>\n",
       "      <td>Public Park Or Garden</td>\n",
       "      <td>Park</td>\n",
       "      <td>244888.0</td>\n",
       "      <td>123.60648</td>\n",
       "    </tr>\n",
       "    <tr>\n",
       "      <th>4</th>\n",
       "      <td>1</td>\n",
       "      <td>E01000001</td>\n",
       "      <td>City of London 001A</td>\n",
       "      <td>City of London 001A</td>\n",
       "      <td>129865.337669</td>\n",
       "      <td>2635.781429</td>\n",
       "      <td>Public Park Or Garden</td>\n",
       "      <td>Park</td>\n",
       "      <td>244889.0</td>\n",
       "      <td>308.30816</td>\n",
       "    </tr>\n",
       "  </tbody>\n",
       "</table>\n",
       "</div>"
      ],
      "text/plain": [
       "   OBJECTID   LSOA11CD             LSOA11NM            LSOA11NMW  \\\n",
       "0         1  E01000001  City of London 001A  City of London 001A   \n",
       "1         1  E01000001  City of London 001A  City of London 001A   \n",
       "2         1  E01000001  City of London 001A  City of London 001A   \n",
       "3         1  E01000001  City of London 001A  City of London 001A   \n",
       "4         1  E01000001  City of London 001A  City of London 001A   \n",
       "\n",
       "      Shape__Are   Shape__Len                priFunc  Type  OBJECTID_2  \\\n",
       "0  129865.337669  2635.781429  Public Park Or Garden  Park    244885.0   \n",
       "1  129865.337669  2635.781429  Public Park Or Garden  Park    244886.0   \n",
       "2  129865.337669  2635.781429  Public Park Or Garden  Park    244887.0   \n",
       "3  129865.337669  2635.781429  Public Park Or Garden  Park    244888.0   \n",
       "4  129865.337669  2635.781429  Public Park Or Garden  Park    244889.0   \n",
       "\n",
       "         Area  \n",
       "0   163.33355  \n",
       "1  1176.13865  \n",
       "2   404.31132  \n",
       "3   123.60648  \n",
       "4   308.30816  "
      ]
     },
     "execution_count": 9,
     "metadata": {},
     "output_type": "execute_result"
    }
   ],
   "source": [
    "parks.head()"
   ]
  },
  {
   "cell_type": "code",
   "execution_count": 10,
   "id": "976ac2f8-aab2-4d86-82c4-e7793a62612d",
   "metadata": {},
   "outputs": [],
   "source": [
    "other = pd.read_csv('LSOA_Other.csv')"
   ]
  },
  {
   "cell_type": "code",
   "execution_count": 11,
   "id": "ec561116-e1ba-4f11-a249-5fe7ed1e1fb3",
   "metadata": {},
   "outputs": [
    {
     "data": {
      "text/html": [
       "<div>\n",
       "<style scoped>\n",
       "    .dataframe tbody tr th:only-of-type {\n",
       "        vertical-align: middle;\n",
       "    }\n",
       "\n",
       "    .dataframe tbody tr th {\n",
       "        vertical-align: top;\n",
       "    }\n",
       "\n",
       "    .dataframe thead th {\n",
       "        text-align: right;\n",
       "    }\n",
       "</style>\n",
       "<table border=\"1\" class=\"dataframe\">\n",
       "  <thead>\n",
       "    <tr style=\"text-align: right;\">\n",
       "      <th></th>\n",
       "      <th>OBJECTID</th>\n",
       "      <th>LSOA11CD</th>\n",
       "      <th>LSOA11NM</th>\n",
       "      <th>LSOA11NMW</th>\n",
       "      <th>Shape__Are</th>\n",
       "      <th>Shape__Len</th>\n",
       "      <th>priFunc</th>\n",
       "      <th>Type</th>\n",
       "      <th>OBJECTID_2</th>\n",
       "      <th>Area</th>\n",
       "    </tr>\n",
       "  </thead>\n",
       "  <tbody>\n",
       "    <tr>\n",
       "      <th>0</th>\n",
       "      <td>1</td>\n",
       "      <td>E01000001</td>\n",
       "      <td>City of London 001A</td>\n",
       "      <td>City of London 001A</td>\n",
       "      <td>129865.337669</td>\n",
       "      <td>2635.781429</td>\n",
       "      <td>Amenity - Residential Or Business</td>\n",
       "      <td>Other</td>\n",
       "      <td>244310.0</td>\n",
       "      <td>49.21836</td>\n",
       "    </tr>\n",
       "    <tr>\n",
       "      <th>1</th>\n",
       "      <td>1</td>\n",
       "      <td>E01000001</td>\n",
       "      <td>City of London 001A</td>\n",
       "      <td>City of London 001A</td>\n",
       "      <td>129865.337669</td>\n",
       "      <td>2635.781429</td>\n",
       "      <td>Amenity - Residential Or Business</td>\n",
       "      <td>Other</td>\n",
       "      <td>244332.0</td>\n",
       "      <td>81.64385</td>\n",
       "    </tr>\n",
       "    <tr>\n",
       "      <th>2</th>\n",
       "      <td>1</td>\n",
       "      <td>E01000001</td>\n",
       "      <td>City of London 001A</td>\n",
       "      <td>City of London 001A</td>\n",
       "      <td>129865.337669</td>\n",
       "      <td>2635.781429</td>\n",
       "      <td>Amenity - Residential Or Business</td>\n",
       "      <td>Other</td>\n",
       "      <td>244340.0</td>\n",
       "      <td>288.20022</td>\n",
       "    </tr>\n",
       "    <tr>\n",
       "      <th>3</th>\n",
       "      <td>1</td>\n",
       "      <td>E01000001</td>\n",
       "      <td>City of London 001A</td>\n",
       "      <td>City of London 001A</td>\n",
       "      <td>129865.337669</td>\n",
       "      <td>2635.781429</td>\n",
       "      <td>Amenity - Residential Or Business</td>\n",
       "      <td>Other</td>\n",
       "      <td>244443.0</td>\n",
       "      <td>966.65698</td>\n",
       "    </tr>\n",
       "    <tr>\n",
       "      <th>4</th>\n",
       "      <td>1</td>\n",
       "      <td>E01000001</td>\n",
       "      <td>City of London 001A</td>\n",
       "      <td>City of London 001A</td>\n",
       "      <td>129865.337669</td>\n",
       "      <td>2635.781429</td>\n",
       "      <td>Amenity - Residential Or Business</td>\n",
       "      <td>Other</td>\n",
       "      <td>244445.0</td>\n",
       "      <td>4112.00553</td>\n",
       "    </tr>\n",
       "  </tbody>\n",
       "</table>\n",
       "</div>"
      ],
      "text/plain": [
       "   OBJECTID   LSOA11CD             LSOA11NM            LSOA11NMW  \\\n",
       "0         1  E01000001  City of London 001A  City of London 001A   \n",
       "1         1  E01000001  City of London 001A  City of London 001A   \n",
       "2         1  E01000001  City of London 001A  City of London 001A   \n",
       "3         1  E01000001  City of London 001A  City of London 001A   \n",
       "4         1  E01000001  City of London 001A  City of London 001A   \n",
       "\n",
       "      Shape__Are   Shape__Len                            priFunc   Type  \\\n",
       "0  129865.337669  2635.781429  Amenity - Residential Or Business  Other   \n",
       "1  129865.337669  2635.781429  Amenity - Residential Or Business  Other   \n",
       "2  129865.337669  2635.781429  Amenity - Residential Or Business  Other   \n",
       "3  129865.337669  2635.781429  Amenity - Residential Or Business  Other   \n",
       "4  129865.337669  2635.781429  Amenity - Residential Or Business  Other   \n",
       "\n",
       "   OBJECTID_2        Area  \n",
       "0    244310.0    49.21836  \n",
       "1    244332.0    81.64385  \n",
       "2    244340.0   288.20022  \n",
       "3    244443.0   966.65698  \n",
       "4    244445.0  4112.00553  "
      ]
     },
     "execution_count": 11,
     "metadata": {},
     "output_type": "execute_result"
    }
   ],
   "source": [
    "other.head()"
   ]
  },
  {
   "cell_type": "markdown",
   "id": "511cb828-ff04-400c-a3d0-ab7c82714de8",
   "metadata": {},
   "source": [
    "<br> <br> <br>\n",
    " \n",
    "# Keeping only Required Columns "
   ]
  },
  {
   "cell_type": "code",
   "execution_count": 13,
   "id": "997edeed-c444-46b5-9bf1-2bfe6823d92e",
   "metadata": {},
   "outputs": [
    {
     "name": "stdout",
     "output_type": "stream",
     "text": [
      "<class 'pandas.core.frame.DataFrame'>\n",
      "RangeIndex: 263539 entries, 0 to 263538\n",
      "Data columns (total 10 columns):\n",
      " #   Column      Non-Null Count   Dtype  \n",
      "---  ------      --------------   -----  \n",
      " 0   OBJECTID    263539 non-null  int64  \n",
      " 1   LSOA11CD    263539 non-null  object \n",
      " 2   LSOA11NM    263539 non-null  object \n",
      " 3   LSOA11NMW   263539 non-null  object \n",
      " 4   Shape__Are  263539 non-null  float64\n",
      " 5   Shape__Len  263539 non-null  float64\n",
      " 6   priFunc     263539 non-null  object \n",
      " 7   Type        263539 non-null  object \n",
      " 8   OBJECTID_2  250115 non-null  float64\n",
      " 9   Area        263539 non-null  float64\n",
      "dtypes: float64(4), int64(1), object(5)\n",
      "memory usage: 20.1+ MB\n"
     ]
    }
   ],
   "source": [
    "sports.info()"
   ]
  },
  {
   "cell_type": "code",
   "execution_count": 21,
   "id": "17f17939-7352-41dc-b7f9-1679ba3add27",
   "metadata": {},
   "outputs": [],
   "source": [
    "sports_simp = sports[['LSOA11CD', 'Area']]"
   ]
  },
  {
   "cell_type": "code",
   "execution_count": 22,
   "id": "0f8fda21-2ebf-4c24-a743-1f9d063962b1",
   "metadata": {},
   "outputs": [],
   "source": [
    "natural_simp = natural[['LSOA11CD','Area']]"
   ]
  },
  {
   "cell_type": "code",
   "execution_count": 23,
   "id": "6f2651f9-2ffa-4ff5-9cd4-8a6f73824433",
   "metadata": {},
   "outputs": [],
   "source": [
    "parks_simp = parks[['LSOA11CD', 'Area']]"
   ]
  },
  {
   "cell_type": "code",
   "execution_count": 24,
   "id": "12bbc3d9-ed69-45a1-8593-a921bfa6294c",
   "metadata": {},
   "outputs": [],
   "source": [
    "other_simp = other[['LSOA11CD', 'Area']]"
   ]
  },
  {
   "cell_type": "markdown",
   "id": "ac2484aa-e39c-42e7-9bda-85ec207882f3",
   "metadata": {},
   "source": [
    "<br><br><br>\n",
    "\n",
    "# Aggregating by LSOA"
   ]
  },
  {
   "cell_type": "code",
   "execution_count": 34,
   "id": "6f86f227-222e-41b0-aaa5-afa270dc64de",
   "metadata": {},
   "outputs": [],
   "source": [
    "sports_agg = sports_simp.groupby(['LSOA11CD'], as_index = False).sum()"
   ]
  },
  {
   "cell_type": "code",
   "execution_count": 35,
   "id": "3130c9b3-53a6-4817-9426-36d48564290e",
   "metadata": {},
   "outputs": [
    {
     "data": {
      "text/html": [
       "<div>\n",
       "<style scoped>\n",
       "    .dataframe tbody tr th:only-of-type {\n",
       "        vertical-align: middle;\n",
       "    }\n",
       "\n",
       "    .dataframe tbody tr th {\n",
       "        vertical-align: top;\n",
       "    }\n",
       "\n",
       "    .dataframe thead th {\n",
       "        text-align: right;\n",
       "    }\n",
       "</style>\n",
       "<table border=\"1\" class=\"dataframe\">\n",
       "  <thead>\n",
       "    <tr style=\"text-align: right;\">\n",
       "      <th></th>\n",
       "      <th>LSOA11CD</th>\n",
       "      <th>Area</th>\n",
       "    </tr>\n",
       "  </thead>\n",
       "  <tbody>\n",
       "    <tr>\n",
       "      <th>0</th>\n",
       "      <td>E01000001</td>\n",
       "      <td>2536.18666</td>\n",
       "    </tr>\n",
       "    <tr>\n",
       "      <th>1</th>\n",
       "      <td>E01000003</td>\n",
       "      <td>3877.40433</td>\n",
       "    </tr>\n",
       "    <tr>\n",
       "      <th>2</th>\n",
       "      <td>E01000005</td>\n",
       "      <td>247.36394</td>\n",
       "    </tr>\n",
       "    <tr>\n",
       "      <th>3</th>\n",
       "      <td>E01000007</td>\n",
       "      <td>197.71641</td>\n",
       "    </tr>\n",
       "    <tr>\n",
       "      <th>4</th>\n",
       "      <td>E01000008</td>\n",
       "      <td>464.64908</td>\n",
       "    </tr>\n",
       "  </tbody>\n",
       "</table>\n",
       "</div>"
      ],
      "text/plain": [
       "    LSOA11CD        Area\n",
       "0  E01000001  2536.18666\n",
       "1  E01000003  3877.40433\n",
       "2  E01000005   247.36394\n",
       "3  E01000007   197.71641\n",
       "4  E01000008   464.64908"
      ]
     },
     "execution_count": 35,
     "metadata": {},
     "output_type": "execute_result"
    }
   ],
   "source": [
    "sports_agg.head()"
   ]
  },
  {
   "cell_type": "code",
   "execution_count": 36,
   "id": "570a3417-371a-4e70-b713-d353c2c88dca",
   "metadata": {},
   "outputs": [],
   "source": [
    "natural_agg = natural_simp.groupby(['LSOA11CD'], as_index = False).sum()"
   ]
  },
  {
   "cell_type": "code",
   "execution_count": 37,
   "id": "350a2fb1-39d1-4bcd-86c3-00e11f82aab8",
   "metadata": {},
   "outputs": [
    {
     "data": {
      "text/html": [
       "<div>\n",
       "<style scoped>\n",
       "    .dataframe tbody tr th:only-of-type {\n",
       "        vertical-align: middle;\n",
       "    }\n",
       "\n",
       "    .dataframe tbody tr th {\n",
       "        vertical-align: top;\n",
       "    }\n",
       "\n",
       "    .dataframe thead th {\n",
       "        text-align: right;\n",
       "    }\n",
       "</style>\n",
       "<table border=\"1\" class=\"dataframe\">\n",
       "  <thead>\n",
       "    <tr style=\"text-align: right;\">\n",
       "      <th></th>\n",
       "      <th>LSOA11CD</th>\n",
       "      <th>Area</th>\n",
       "    </tr>\n",
       "  </thead>\n",
       "  <tbody>\n",
       "    <tr>\n",
       "      <th>0</th>\n",
       "      <td>E01000001</td>\n",
       "      <td>1777.03582</td>\n",
       "    </tr>\n",
       "    <tr>\n",
       "      <th>1</th>\n",
       "      <td>E01000002</td>\n",
       "      <td>8895.51245</td>\n",
       "    </tr>\n",
       "    <tr>\n",
       "      <th>2</th>\n",
       "      <td>E01000003</td>\n",
       "      <td>366.13136</td>\n",
       "    </tr>\n",
       "    <tr>\n",
       "      <th>3</th>\n",
       "      <td>E01000008</td>\n",
       "      <td>7356.64962</td>\n",
       "    </tr>\n",
       "    <tr>\n",
       "      <th>4</th>\n",
       "      <td>E01000011</td>\n",
       "      <td>12734.10944</td>\n",
       "    </tr>\n",
       "  </tbody>\n",
       "</table>\n",
       "</div>"
      ],
      "text/plain": [
       "    LSOA11CD         Area\n",
       "0  E01000001   1777.03582\n",
       "1  E01000002   8895.51245\n",
       "2  E01000003    366.13136\n",
       "3  E01000008   7356.64962\n",
       "4  E01000011  12734.10944"
      ]
     },
     "execution_count": 37,
     "metadata": {},
     "output_type": "execute_result"
    }
   ],
   "source": [
    "natural_agg.head()"
   ]
  },
  {
   "cell_type": "code",
   "execution_count": 38,
   "id": "b46ec0fa-22ec-4445-af79-8035cfb19a2a",
   "metadata": {},
   "outputs": [],
   "source": [
    "parks_agg = parks_simp.groupby(['LSOA11CD'], as_index = False).sum()"
   ]
  },
  {
   "cell_type": "code",
   "execution_count": 39,
   "id": "fdd8da8a-d438-446b-bc9b-5ecc67b72cc3",
   "metadata": {},
   "outputs": [
    {
     "data": {
      "text/html": [
       "<div>\n",
       "<style scoped>\n",
       "    .dataframe tbody tr th:only-of-type {\n",
       "        vertical-align: middle;\n",
       "    }\n",
       "\n",
       "    .dataframe tbody tr th {\n",
       "        vertical-align: top;\n",
       "    }\n",
       "\n",
       "    .dataframe thead th {\n",
       "        text-align: right;\n",
       "    }\n",
       "</style>\n",
       "<table border=\"1\" class=\"dataframe\">\n",
       "  <thead>\n",
       "    <tr style=\"text-align: right;\">\n",
       "      <th></th>\n",
       "      <th>LSOA11CD</th>\n",
       "      <th>Area</th>\n",
       "    </tr>\n",
       "  </thead>\n",
       "  <tbody>\n",
       "    <tr>\n",
       "      <th>0</th>\n",
       "      <td>E01000001</td>\n",
       "      <td>2773.00031</td>\n",
       "    </tr>\n",
       "    <tr>\n",
       "      <th>1</th>\n",
       "      <td>E01000005</td>\n",
       "      <td>2356.83701</td>\n",
       "    </tr>\n",
       "    <tr>\n",
       "      <th>2</th>\n",
       "      <td>E01000009</td>\n",
       "      <td>3804.20931</td>\n",
       "    </tr>\n",
       "    <tr>\n",
       "      <th>3</th>\n",
       "      <td>E01000010</td>\n",
       "      <td>38468.78043</td>\n",
       "    </tr>\n",
       "    <tr>\n",
       "      <th>4</th>\n",
       "      <td>E01000011</td>\n",
       "      <td>277167.28424</td>\n",
       "    </tr>\n",
       "  </tbody>\n",
       "</table>\n",
       "</div>"
      ],
      "text/plain": [
       "    LSOA11CD          Area\n",
       "0  E01000001    2773.00031\n",
       "1  E01000005    2356.83701\n",
       "2  E01000009    3804.20931\n",
       "3  E01000010   38468.78043\n",
       "4  E01000011  277167.28424"
      ]
     },
     "execution_count": 39,
     "metadata": {},
     "output_type": "execute_result"
    }
   ],
   "source": [
    "parks_agg.head()"
   ]
  },
  {
   "cell_type": "code",
   "execution_count": 40,
   "id": "6b5c4089-b841-40fe-89c3-d6343a40ea29",
   "metadata": {},
   "outputs": [],
   "source": [
    "other_agg = other_simp.groupby(['LSOA11CD'], as_index = False).sum()"
   ]
  },
  {
   "cell_type": "code",
   "execution_count": 41,
   "id": "34b04770-4078-4e4d-80b1-11a426dc5e0e",
   "metadata": {},
   "outputs": [
    {
     "data": {
      "text/html": [
       "<div>\n",
       "<style scoped>\n",
       "    .dataframe tbody tr th:only-of-type {\n",
       "        vertical-align: middle;\n",
       "    }\n",
       "\n",
       "    .dataframe tbody tr th {\n",
       "        vertical-align: top;\n",
       "    }\n",
       "\n",
       "    .dataframe thead th {\n",
       "        text-align: right;\n",
       "    }\n",
       "</style>\n",
       "<table border=\"1\" class=\"dataframe\">\n",
       "  <thead>\n",
       "    <tr style=\"text-align: right;\">\n",
       "      <th></th>\n",
       "      <th>LSOA11CD</th>\n",
       "      <th>Area</th>\n",
       "    </tr>\n",
       "  </thead>\n",
       "  <tbody>\n",
       "    <tr>\n",
       "      <th>0</th>\n",
       "      <td>E01000001</td>\n",
       "      <td>23491.60793</td>\n",
       "    </tr>\n",
       "    <tr>\n",
       "      <th>1</th>\n",
       "      <td>E01000002</td>\n",
       "      <td>29354.94223</td>\n",
       "    </tr>\n",
       "    <tr>\n",
       "      <th>2</th>\n",
       "      <td>E01000003</td>\n",
       "      <td>9251.91892</td>\n",
       "    </tr>\n",
       "    <tr>\n",
       "      <th>3</th>\n",
       "      <td>E01000005</td>\n",
       "      <td>23929.46463</td>\n",
       "    </tr>\n",
       "    <tr>\n",
       "      <th>4</th>\n",
       "      <td>E01000006</td>\n",
       "      <td>12688.95516</td>\n",
       "    </tr>\n",
       "  </tbody>\n",
       "</table>\n",
       "</div>"
      ],
      "text/plain": [
       "    LSOA11CD         Area\n",
       "0  E01000001  23491.60793\n",
       "1  E01000002  29354.94223\n",
       "2  E01000003   9251.91892\n",
       "3  E01000005  23929.46463\n",
       "4  E01000006  12688.95516"
      ]
     },
     "execution_count": 41,
     "metadata": {},
     "output_type": "execute_result"
    }
   ],
   "source": [
    "other_agg.head()"
   ]
  },
  {
   "cell_type": "code",
   "execution_count": 42,
   "id": "2e4e52aa-7834-48fd-aa79-9fa12980834d",
   "metadata": {},
   "outputs": [
    {
     "name": "stdout",
     "output_type": "stream",
     "text": [
      "<class 'pandas.core.frame.DataFrame'>\n",
      "Int64Index: 27503 entries, 0 to 27502\n",
      "Data columns (total 2 columns):\n",
      " #   Column    Non-Null Count  Dtype  \n",
      "---  ------    --------------  -----  \n",
      " 0   LSOA11CD  27503 non-null  object \n",
      " 1   Area      27503 non-null  float64\n",
      "dtypes: float64(1), object(1)\n",
      "memory usage: 644.6+ KB\n"
     ]
    }
   ],
   "source": [
    "other_agg.info()"
   ]
  },
  {
   "cell_type": "markdown",
   "id": "9ca14672-9db4-4f79-954e-b92204ae2a58",
   "metadata": {},
   "source": [
    "<br> <br> <br>\n",
    "# Save Outputs"
   ]
  },
  {
   "cell_type": "code",
   "execution_count": 43,
   "id": "1e7a7259-40d3-40f1-a9a5-a09c4b7f8f55",
   "metadata": {},
   "outputs": [],
   "source": [
    "sports_agg.to_csv('Sports_agg.csv')"
   ]
  },
  {
   "cell_type": "code",
   "execution_count": 44,
   "id": "b0bac0ef-d07b-4072-9b05-b4c6d9a2504f",
   "metadata": {},
   "outputs": [],
   "source": [
    "natural_agg.to_csv('Natural_agg.csv')"
   ]
  },
  {
   "cell_type": "code",
   "execution_count": 45,
   "id": "917bf318-3317-4aa6-978f-8d9bec07e081",
   "metadata": {},
   "outputs": [],
   "source": [
    "parks_agg.to_csv('Parks_agg.csv')"
   ]
  },
  {
   "cell_type": "code",
   "execution_count": 46,
   "id": "f0cf35de-22cc-445c-bfa8-257149bcc013",
   "metadata": {},
   "outputs": [],
   "source": [
    "other_agg.to_csv('Other_agg.csv')"
   ]
  },
  {
   "cell_type": "code",
   "execution_count": null,
   "id": "756c9e98-8981-424b-ad11-22ba01de0057",
   "metadata": {},
   "outputs": [],
   "source": []
  }
 ],
 "metadata": {
  "kernelspec": {
   "display_name": "Python 3",
   "language": "python",
   "name": "python3"
  },
  "language_info": {
   "codemirror_mode": {
    "name": "ipython",
    "version": 3
   },
   "file_extension": ".py",
   "mimetype": "text/x-python",
   "name": "python",
   "nbconvert_exporter": "python",
   "pygments_lexer": "ipython3",
   "version": "3.8.8"
  }
 },
 "nbformat": 4,
 "nbformat_minor": 5
}
