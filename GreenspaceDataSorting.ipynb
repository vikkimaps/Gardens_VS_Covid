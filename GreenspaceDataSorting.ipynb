{
 "cells": [
  {
   "cell_type": "markdown",
   "id": "881293bd-32b7-4821-b869-7e7312cf666f",
   "metadata": {},
   "source": [
    "# Sorting Greenspace Data"
   ]
  },
  {
   "cell_type": "markdown",
   "id": "8412a6d8-6cb2-4205-b18e-69033e262f20",
   "metadata": {},
   "source": [
    "Data is loaded in at LSOA level. Greenspace data was downloaded as individual polygons from OS. Greenspace was divided up into 4 types: natural, parks, sports, others. It was intersected with LSOAs, to identify which greenspaces fell within each LSOA. This now needs to be aggregated, to calculate the amount of greenspace within each LSOA."
   ]
  },
  {
   "cell_type": "markdown",
   "id": "533ef06f-7d0e-45e4-a7d8-3e8b3d9be24b",
   "metadata": {},
   "source": [
    "1. Separate out into 4 types\n",
    "2. Dissolve, to remove overlapping polygons\n",
    "3. Intersect with LSOAs\n",
    "4. Calculate areas\n",
    "5. Export as csv\n",
    "6. Load into Python\n",
    "7. Aggregate to LSOA\n",
    "8. Join back up with LSOA geometry\n",
    "9. Calculate proportions"
   ]
  },
  {
   "cell_type": "markdown",
   "id": "1ee4d9d0-cfc6-4548-bef1-bf21e94b35a7",
   "metadata": {},
   "source": [
    "## Reading in Data"
   ]
  },
  {
   "cell_type": "code",
   "execution_count": 1,
   "id": "4790b0f6-2fa8-41ff-9998-b69e323091e0",
   "metadata": {},
   "outputs": [
    {
     "name": "stderr",
     "output_type": "stream",
     "text": [
      "/Users/vikki/opt/anaconda3/lib/python3.8/site-packages/geopandas/_compat.py:106: UserWarning: The Shapely GEOS version (3.8.0-CAPI-1.13.1 ) is incompatible with the GEOS version PyGEOS was compiled with (3.9.1-CAPI-1.14.2). Conversions between both will be slow.\n",
      "  warnings.warn(\n"
     ]
    }
   ],
   "source": [
    "import pandas as pd \n",
    "import numba\n",
    "import seaborn as sns \n",
    "import matplotlib.pyplot as plt\n",
    "import geopandas as gpd\n",
    "import palettable as pltt\n",
    "import descartes\n",
    "from pysal.viz import mapclassify \n",
    "import numpy as np\n",
    "import statsmodels.api as sm\n",
    "import scipy.stats as stats"
   ]
  },
  {
   "cell_type": "code",
   "execution_count": 2,
   "id": "b75a9272-639e-45dd-bf36-86ffb0349082",
   "metadata": {},
   "outputs": [],
   "source": [
    "import shapely\n",
    "import rtree\n",
    "from shapely.geometry import Polygon"
   ]
  },
  {
   "cell_type": "code",
   "execution_count": 3,
   "id": "6b4723b0-cb8b-4d23-80a3-d6adc0b51a7d",
   "metadata": {},
   "outputs": [],
   "source": [
    "#parks = gpd.read_file('GS_Parks.shp')"
   ]
  },
  {
   "cell_type": "code",
   "execution_count": 4,
   "id": "4d16c046-00e4-4309-a65e-fa1296d4c359",
   "metadata": {},
   "outputs": [
    {
     "data": {
      "text/html": [
       "<div>\n",
       "<style scoped>\n",
       "    .dataframe tbody tr th:only-of-type {\n",
       "        vertical-align: middle;\n",
       "    }\n",
       "\n",
       "    .dataframe tbody tr th {\n",
       "        vertical-align: top;\n",
       "    }\n",
       "\n",
       "    .dataframe thead th {\n",
       "        text-align: right;\n",
       "    }\n",
       "</style>\n",
       "<table border=\"1\" class=\"dataframe\">\n",
       "  <thead>\n",
       "    <tr style=\"text-align: right;\">\n",
       "      <th></th>\n",
       "      <th>priFunc</th>\n",
       "      <th>Type</th>\n",
       "      <th>OBJECTID</th>\n",
       "      <th>Area</th>\n",
       "      <th>geometry</th>\n",
       "    </tr>\n",
       "  </thead>\n",
       "  <tbody>\n",
       "    <tr>\n",
       "      <th>0</th>\n",
       "      <td>Public Park Or Garden</td>\n",
       "      <td>Park</td>\n",
       "      <td>NaN</td>\n",
       "      <td>16.76488</td>\n",
       "      <td>POLYGON Z ((399649.300 653037.950 0.000, 39964...</td>\n",
       "    </tr>\n",
       "    <tr>\n",
       "      <th>1</th>\n",
       "      <td>Public Park Or Garden</td>\n",
       "      <td>Park</td>\n",
       "      <td>NaN</td>\n",
       "      <td>169.02260</td>\n",
       "      <td>POLYGON Z ((399664.550 653075.840 0.000, 39967...</td>\n",
       "    </tr>\n",
       "    <tr>\n",
       "      <th>2</th>\n",
       "      <td>Public Park Or Garden</td>\n",
       "      <td>Park</td>\n",
       "      <td>NaN</td>\n",
       "      <td>202.42683</td>\n",
       "      <td>POLYGON Z ((399686.900 653074.660 0.000, 39968...</td>\n",
       "    </tr>\n",
       "    <tr>\n",
       "      <th>3</th>\n",
       "      <td>Public Park Or Garden</td>\n",
       "      <td>Park</td>\n",
       "      <td>NaN</td>\n",
       "      <td>10.07841</td>\n",
       "      <td>POLYGON Z ((399665.160 653076.510 0.000, 39967...</td>\n",
       "    </tr>\n",
       "    <tr>\n",
       "      <th>4</th>\n",
       "      <td>Public Park Or Garden</td>\n",
       "      <td>Park</td>\n",
       "      <td>NaN</td>\n",
       "      <td>89.11763</td>\n",
       "      <td>POLYGON Z ((399665.160 653076.510 0.000, 39967...</td>\n",
       "    </tr>\n",
       "  </tbody>\n",
       "</table>\n",
       "</div>"
      ],
      "text/plain": [
       "                 priFunc  Type  OBJECTID       Area  \\\n",
       "0  Public Park Or Garden  Park       NaN   16.76488   \n",
       "1  Public Park Or Garden  Park       NaN  169.02260   \n",
       "2  Public Park Or Garden  Park       NaN  202.42683   \n",
       "3  Public Park Or Garden  Park       NaN   10.07841   \n",
       "4  Public Park Or Garden  Park       NaN   89.11763   \n",
       "\n",
       "                                            geometry  \n",
       "0  POLYGON Z ((399649.300 653037.950 0.000, 39964...  \n",
       "1  POLYGON Z ((399664.550 653075.840 0.000, 39967...  \n",
       "2  POLYGON Z ((399686.900 653074.660 0.000, 39968...  \n",
       "3  POLYGON Z ((399665.160 653076.510 0.000, 39967...  \n",
       "4  POLYGON Z ((399665.160 653076.510 0.000, 39967...  "
      ]
     },
     "execution_count": 4,
     "metadata": {},
     "output_type": "execute_result"
    }
   ],
   "source": [
    "#parks.head()"
   ]
  },
  {
   "cell_type": "code",
   "execution_count": 3,
   "id": "6d95e706-11b5-47f3-8097-9bff812185b3",
   "metadata": {},
   "outputs": [],
   "source": [
    "lsoas = gpd.read_file('LSOAs_KeyUrban.shp')"
   ]
  },
  {
   "cell_type": "code",
   "execution_count": 4,
   "id": "67db5f06-c0b2-48e0-98ea-4930b860e957",
   "metadata": {},
   "outputs": [
    {
     "data": {
      "text/html": [
       "<div>\n",
       "<style scoped>\n",
       "    .dataframe tbody tr th:only-of-type {\n",
       "        vertical-align: middle;\n",
       "    }\n",
       "\n",
       "    .dataframe tbody tr th {\n",
       "        vertical-align: top;\n",
       "    }\n",
       "\n",
       "    .dataframe thead th {\n",
       "        text-align: right;\n",
       "    }\n",
       "</style>\n",
       "<table border=\"1\" class=\"dataframe\">\n",
       "  <thead>\n",
       "    <tr style=\"text-align: right;\">\n",
       "      <th></th>\n",
       "      <th>OBJECTID</th>\n",
       "      <th>LSOA11CD</th>\n",
       "      <th>LSOA11NM</th>\n",
       "      <th>LSOA11NMW</th>\n",
       "      <th>Shape__Are</th>\n",
       "      <th>Shape__Len</th>\n",
       "      <th>geometry</th>\n",
       "    </tr>\n",
       "  </thead>\n",
       "  <tbody>\n",
       "    <tr>\n",
       "      <th>0</th>\n",
       "      <td>1</td>\n",
       "      <td>E01000001</td>\n",
       "      <td>City of London 001A</td>\n",
       "      <td>City of London 001A</td>\n",
       "      <td>129865.337669</td>\n",
       "      <td>2635.781429</td>\n",
       "      <td>POLYGON ((532095.563 181577.351, 532095.125 18...</td>\n",
       "    </tr>\n",
       "    <tr>\n",
       "      <th>1</th>\n",
       "      <td>2</td>\n",
       "      <td>E01000002</td>\n",
       "      <td>City of London 001B</td>\n",
       "      <td>City of London 001B</td>\n",
       "      <td>228419.333099</td>\n",
       "      <td>2708.052040</td>\n",
       "      <td>POLYGON ((532267.728 181643.781, 532262.875 18...</td>\n",
       "    </tr>\n",
       "    <tr>\n",
       "      <th>2</th>\n",
       "      <td>3</td>\n",
       "      <td>E01000003</td>\n",
       "      <td>City of London 001C</td>\n",
       "      <td>City of London 001C</td>\n",
       "      <td>59054.013168</td>\n",
       "      <td>1224.770897</td>\n",
       "      <td>POLYGON ((532105.312 182010.574, 532104.872 18...</td>\n",
       "    </tr>\n",
       "    <tr>\n",
       "      <th>3</th>\n",
       "      <td>4</td>\n",
       "      <td>E01000005</td>\n",
       "      <td>City of London 001E</td>\n",
       "      <td>City of London 001E</td>\n",
       "      <td>189577.165154</td>\n",
       "      <td>2275.832056</td>\n",
       "      <td>POLYGON ((533610.974 181410.968, 533615.622 18...</td>\n",
       "    </tr>\n",
       "    <tr>\n",
       "      <th>4</th>\n",
       "      <td>5</td>\n",
       "      <td>E01000006</td>\n",
       "      <td>Barking and Dagenham 016A</td>\n",
       "      <td>Barking and Dagenham 016A</td>\n",
       "      <td>146536.520470</td>\n",
       "      <td>1966.162225</td>\n",
       "      <td>POLYGON ((544817.826 184346.261, 544815.791 18...</td>\n",
       "    </tr>\n",
       "  </tbody>\n",
       "</table>\n",
       "</div>"
      ],
      "text/plain": [
       "   OBJECTID   LSOA11CD                   LSOA11NM                  LSOA11NMW  \\\n",
       "0         1  E01000001        City of London 001A        City of London 001A   \n",
       "1         2  E01000002        City of London 001B        City of London 001B   \n",
       "2         3  E01000003        City of London 001C        City of London 001C   \n",
       "3         4  E01000005        City of London 001E        City of London 001E   \n",
       "4         5  E01000006  Barking and Dagenham 016A  Barking and Dagenham 016A   \n",
       "\n",
       "      Shape__Are   Shape__Len  \\\n",
       "0  129865.337669  2635.781429   \n",
       "1  228419.333099  2708.052040   \n",
       "2   59054.013168  1224.770897   \n",
       "3  189577.165154  2275.832056   \n",
       "4  146536.520470  1966.162225   \n",
       "\n",
       "                                            geometry  \n",
       "0  POLYGON ((532095.563 181577.351, 532095.125 18...  \n",
       "1  POLYGON ((532267.728 181643.781, 532262.875 18...  \n",
       "2  POLYGON ((532105.312 182010.574, 532104.872 18...  \n",
       "3  POLYGON ((533610.974 181410.968, 533615.622 18...  \n",
       "4  POLYGON ((544817.826 184346.261, 544815.791 18...  "
      ]
     },
     "execution_count": 4,
     "metadata": {},
     "output_type": "execute_result"
    }
   ],
   "source": [
    "lsoas.head()"
   ]
  },
  {
   "cell_type": "markdown",
   "id": "bc9052b2-932e-4d7b-855b-f94d1ee81419",
   "metadata": {},
   "source": [
    "<BR><BR><BR>\n",
    "    \n",
    "## Dissolve the greenspace polygons"
   ]
  },
  {
   "cell_type": "code",
   "execution_count": 7,
   "id": "de168876-7a55-4a84-a032-34d1adec40e6",
   "metadata": {},
   "outputs": [],
   "source": [
    "#Leeds['outline'] = 1\n",
    "#parks_outline = parks.dissolve()"
   ]
  },
  {
   "cell_type": "code",
   "execution_count": 8,
   "id": "5e505aca-646f-4083-ad84-b2bbb962406a",
   "metadata": {},
   "outputs": [
    {
     "data": {
      "text/html": [
       "<div>\n",
       "<style scoped>\n",
       "    .dataframe tbody tr th:only-of-type {\n",
       "        vertical-align: middle;\n",
       "    }\n",
       "\n",
       "    .dataframe tbody tr th {\n",
       "        vertical-align: top;\n",
       "    }\n",
       "\n",
       "    .dataframe thead th {\n",
       "        text-align: right;\n",
       "    }\n",
       "</style>\n",
       "<table border=\"1\" class=\"dataframe\">\n",
       "  <thead>\n",
       "    <tr style=\"text-align: right;\">\n",
       "      <th></th>\n",
       "      <th>geometry</th>\n",
       "      <th>priFunc</th>\n",
       "      <th>Type</th>\n",
       "      <th>OBJECTID</th>\n",
       "      <th>Area</th>\n",
       "    </tr>\n",
       "  </thead>\n",
       "  <tbody>\n",
       "    <tr>\n",
       "      <th>0</th>\n",
       "      <td>MULTIPOLYGON Z (((573378.692 106943.743 0.000,...</td>\n",
       "      <td>Public Park Or Garden</td>\n",
       "      <td>Park</td>\n",
       "      <td>41186.0</td>\n",
       "      <td>16.76488</td>\n",
       "    </tr>\n",
       "  </tbody>\n",
       "</table>\n",
       "</div>"
      ],
      "text/plain": [
       "                                            geometry                priFunc  \\\n",
       "0  MULTIPOLYGON Z (((573378.692 106943.743 0.000,...  Public Park Or Garden   \n",
       "\n",
       "   Type  OBJECTID      Area  \n",
       "0  Park   41186.0  16.76488  "
      ]
     },
     "execution_count": 8,
     "metadata": {},
     "output_type": "execute_result"
    }
   ],
   "source": [
    "#check it worked\n",
    "#parks_outline.head()"
   ]
  },
  {
   "cell_type": "code",
   "execution_count": 9,
   "id": "a0eb410d-d1a9-42f5-973f-5a0545761a5f",
   "metadata": {},
   "outputs": [],
   "source": [
    "#save the dissolved polygons\n",
    "#parks_outline.to_file('Parks_outline.shp')"
   ]
  },
  {
   "cell_type": "code",
   "execution_count": 5,
   "id": "3dcb3416-411e-4ded-a128-f6ce4f393631",
   "metadata": {},
   "outputs": [],
   "source": [
    "#read back in the dissolved polygons\n",
    "#parks_outline = gpd.read_file('Parks_outline.shp')"
   ]
  },
  {
   "cell_type": "code",
   "execution_count": 6,
   "id": "bf7373fe-19d6-4341-9f1d-23551d06b64c",
   "metadata": {},
   "outputs": [
    {
     "data": {
      "text/html": [
       "<div>\n",
       "<style scoped>\n",
       "    .dataframe tbody tr th:only-of-type {\n",
       "        vertical-align: middle;\n",
       "    }\n",
       "\n",
       "    .dataframe tbody tr th {\n",
       "        vertical-align: top;\n",
       "    }\n",
       "\n",
       "    .dataframe thead th {\n",
       "        text-align: right;\n",
       "    }\n",
       "</style>\n",
       "<table border=\"1\" class=\"dataframe\">\n",
       "  <thead>\n",
       "    <tr style=\"text-align: right;\">\n",
       "      <th></th>\n",
       "      <th>priFunc</th>\n",
       "      <th>Type</th>\n",
       "      <th>OBJECTID</th>\n",
       "      <th>Area</th>\n",
       "      <th>geometry</th>\n",
       "    </tr>\n",
       "  </thead>\n",
       "  <tbody>\n",
       "    <tr>\n",
       "      <th>0</th>\n",
       "      <td>Public Park Or Garden</td>\n",
       "      <td>Park</td>\n",
       "      <td>41186.0</td>\n",
       "      <td>16.76488</td>\n",
       "      <td>MULTIPOLYGON Z (((573378.692 106943.743 0.000,...</td>\n",
       "    </tr>\n",
       "  </tbody>\n",
       "</table>\n",
       "</div>"
      ],
      "text/plain": [
       "                 priFunc  Type  OBJECTID      Area  \\\n",
       "0  Public Park Or Garden  Park   41186.0  16.76488   \n",
       "\n",
       "                                            geometry  \n",
       "0  MULTIPOLYGON Z (((573378.692 106943.743 0.000,...  "
      ]
     },
     "execution_count": 6,
     "metadata": {},
     "output_type": "execute_result"
    }
   ],
   "source": [
    "#parks_outline.head()"
   ]
  },
  {
   "cell_type": "markdown",
   "id": "3ac03b78-ef54-4415-a0bb-d1672e1f0550",
   "metadata": {
    "tags": []
   },
   "source": [
    "<br><br><br>\n",
    "\n",
    "## Intersect LSOAs with parks"
   ]
  },
  {
   "cell_type": "code",
   "execution_count": null,
   "id": "c5ecebb3-77a4-4749-b663-ed4bd4619c87",
   "metadata": {},
   "outputs": [],
   "source": [
    "#check CRS and convert if needed"
   ]
  },
  {
   "cell_type": "code",
   "execution_count": 7,
   "id": "d8ddc14a-a17e-4008-9cfe-66f8a6602709",
   "metadata": {},
   "outputs": [
    {
     "data": {
      "text/plain": [
       "<Projected CRS: EPSG:27700>\n",
       "Name: OSGB36 / British National Grid\n",
       "Axis Info [cartesian]:\n",
       "- E[east]: Easting (metre)\n",
       "- N[north]: Northing (metre)\n",
       "Area of Use:\n",
       "- name: United Kingdom (UK) - offshore to boundary of UKCS within 49°45'N to 61°N and 9°W to 2°E; onshore Great Britain (England, Wales and Scotland). Isle of Man onshore.\n",
       "- bounds: (-9.0, 49.75, 2.01, 61.01)\n",
       "Coordinate Operation:\n",
       "- name: British National Grid\n",
       "- method: Transverse Mercator\n",
       "Datum: Ordnance Survey of Great Britain 1936\n",
       "- Ellipsoid: Airy 1830\n",
       "- Prime Meridian: Greenwich"
      ]
     },
     "execution_count": 7,
     "metadata": {},
     "output_type": "execute_result"
    }
   ],
   "source": [
    "#lsoas.crs"
   ]
  },
  {
   "cell_type": "code",
   "execution_count": 8,
   "id": "3631dc0c-7956-461b-83e1-57d41905181e",
   "metadata": {},
   "outputs": [
    {
     "data": {
      "text/plain": [
       "<Projected CRS: PROJCS[\"OSGB36_British_National_Grid\",GEOGCS[\"GCS_ ...>\n",
       "Name: OSGB36_British_National_Grid\n",
       "Axis Info [cartesian]:\n",
       "- [east]: Easting (metre)\n",
       "- [north]: Northing (metre)\n",
       "Area of Use:\n",
       "- undefined\n",
       "Coordinate Operation:\n",
       "- name: unnamed\n",
       "- method: Transverse Mercator\n",
       "Datum: Ordnance Survey of Great Britain 1936\n",
       "- Ellipsoid: Airy 1830\n",
       "- Prime Meridian: Greenwich"
      ]
     },
     "execution_count": 8,
     "metadata": {},
     "output_type": "execute_result"
    }
   ],
   "source": [
    "#parks_outline.crs"
   ]
  },
  {
   "cell_type": "code",
   "execution_count": 11,
   "id": "d41cbed7-6ea1-4317-8805-5a62c629a04d",
   "metadata": {},
   "outputs": [],
   "source": [
    "#parks_outline = parks_outline.to_crs(epsg = 27700) "
   ]
  },
  {
   "cell_type": "code",
   "execution_count": 12,
   "id": "0cc04bff-e8b3-4d6f-87d7-0fce23db77bd",
   "metadata": {},
   "outputs": [
    {
     "data": {
      "text/plain": [
       "<Projected CRS: EPSG:27700>\n",
       "Name: OSGB36 / British National Grid\n",
       "Axis Info [cartesian]:\n",
       "- E[east]: Easting (metre)\n",
       "- N[north]: Northing (metre)\n",
       "Area of Use:\n",
       "- name: United Kingdom (UK) - offshore to boundary of UKCS within 49°45'N to 61°N and 9°W to 2°E; onshore Great Britain (England, Wales and Scotland). Isle of Man onshore.\n",
       "- bounds: (-9.0, 49.75, 2.01, 61.01)\n",
       "Coordinate Operation:\n",
       "- name: British National Grid\n",
       "- method: Transverse Mercator\n",
       "Datum: Ordnance Survey of Great Britain 1936\n",
       "- Ellipsoid: Airy 1830\n",
       "- Prime Meridian: Greenwich"
      ]
     },
     "execution_count": 12,
     "metadata": {},
     "output_type": "execute_result"
    }
   ],
   "source": [
    "#parks_outline.crs"
   ]
  },
  {
   "cell_type": "code",
   "execution_count": null,
   "id": "925c0cc0-f5f0-44c1-8541-9cb5200eeb55",
   "metadata": {},
   "outputs": [],
   "source": [
    "#lsoas_parks_int = gpd.overlay(lsoas, parks_outline, how='intersection')\n",
    "\n"
   ]
  },
  {
   "cell_type": "code",
   "execution_count": 11,
   "id": "0bd90ade-5fcc-4a2b-8c8c-a0a215b53464",
   "metadata": {},
   "outputs": [],
   "source": [
    "sports = pd.read_csv('GS_Sport_Edit.csv')"
   ]
  },
  {
   "cell_type": "code",
   "execution_count": 12,
   "id": "1a0de59d-7728-49aa-bd76-5ab0a06c6650",
   "metadata": {},
   "outputs": [
    {
     "data": {
      "text/html": [
       "<div>\n",
       "<style scoped>\n",
       "    .dataframe tbody tr th:only-of-type {\n",
       "        vertical-align: middle;\n",
       "    }\n",
       "\n",
       "    .dataframe tbody tr th {\n",
       "        vertical-align: top;\n",
       "    }\n",
       "\n",
       "    .dataframe thead th {\n",
       "        text-align: right;\n",
       "    }\n",
       "</style>\n",
       "<table border=\"1\" class=\"dataframe\">\n",
       "  <thead>\n",
       "    <tr style=\"text-align: right;\">\n",
       "      <th></th>\n",
       "      <th>OBJECTID</th>\n",
       "      <th>LSOA11CD</th>\n",
       "      <th>LSOA11NM</th>\n",
       "      <th>LSOA11NMW</th>\n",
       "      <th>Shape__Are</th>\n",
       "      <th>Shape__Len</th>\n",
       "      <th>Area</th>\n",
       "    </tr>\n",
       "  </thead>\n",
       "  <tbody>\n",
       "    <tr>\n",
       "      <th>0</th>\n",
       "      <td>9076</td>\n",
       "      <td>E01009345</td>\n",
       "      <td>Birmingham 053D</td>\n",
       "      <td>Birmingham 053D</td>\n",
       "      <td>502490.073685</td>\n",
       "      <td>3976.735948</td>\n",
       "      <td>14478.16459</td>\n",
       "    </tr>\n",
       "    <tr>\n",
       "      <th>1</th>\n",
       "      <td>8685</td>\n",
       "      <td>E01008924</td>\n",
       "      <td>Birmingham 101A</td>\n",
       "      <td>Birmingham 101A</td>\n",
       "      <td>411321.745239</td>\n",
       "      <td>4663.597926</td>\n",
       "      <td>115461.38626</td>\n",
       "    </tr>\n",
       "    <tr>\n",
       "      <th>2</th>\n",
       "      <td>32705</td>\n",
       "      <td>E01033629</td>\n",
       "      <td>Birmingham 106F</td>\n",
       "      <td>Birmingham 106F</td>\n",
       "      <td>935576.119431</td>\n",
       "      <td>6069.037061</td>\n",
       "      <td>201634.07831</td>\n",
       "    </tr>\n",
       "    <tr>\n",
       "      <th>3</th>\n",
       "      <td>9226</td>\n",
       "      <td>E01009505</td>\n",
       "      <td>Birmingham 101E</td>\n",
       "      <td>Birmingham 101E</td>\n",
       "      <td>337469.733559</td>\n",
       "      <td>4308.736789</td>\n",
       "      <td>429.85873</td>\n",
       "    </tr>\n",
       "    <tr>\n",
       "      <th>4</th>\n",
       "      <td>8689</td>\n",
       "      <td>E01008929</td>\n",
       "      <td>Birmingham 106C</td>\n",
       "      <td>Birmingham 106C</td>\n",
       "      <td>532836.286461</td>\n",
       "      <td>5400.690300</td>\n",
       "      <td>15372.21043</td>\n",
       "    </tr>\n",
       "  </tbody>\n",
       "</table>\n",
       "</div>"
      ],
      "text/plain": [
       "   OBJECTID   LSOA11CD         LSOA11NM        LSOA11NMW     Shape__Are  \\\n",
       "0      9076  E01009345  Birmingham 053D  Birmingham 053D  502490.073685   \n",
       "1      8685  E01008924  Birmingham 101A  Birmingham 101A  411321.745239   \n",
       "2     32705  E01033629  Birmingham 106F  Birmingham 106F  935576.119431   \n",
       "3      9226  E01009505  Birmingham 101E  Birmingham 101E  337469.733559   \n",
       "4      8689  E01008929  Birmingham 106C  Birmingham 106C  532836.286461   \n",
       "\n",
       "    Shape__Len          Area  \n",
       "0  3976.735948   14478.16459  \n",
       "1  4663.597926  115461.38626  \n",
       "2  6069.037061  201634.07831  \n",
       "3  4308.736789     429.85873  \n",
       "4  5400.690300   15372.21043  "
      ]
     },
     "execution_count": 12,
     "metadata": {},
     "output_type": "execute_result"
    }
   ],
   "source": [
    "sports.head()"
   ]
  },
  {
   "cell_type": "code",
   "execution_count": 6,
   "id": "cd42fbbe-5d8e-4cba-a11b-3d9cbbd97004",
   "metadata": {},
   "outputs": [],
   "source": [
    "natural = pd.read_csv('GS_Nat_Edit.csv')"
   ]
  },
  {
   "cell_type": "code",
   "execution_count": 10,
   "id": "b4062119-72db-480d-9b75-684d9e67de0f",
   "metadata": {},
   "outputs": [
    {
     "data": {
      "text/html": [
       "<div>\n",
       "<style scoped>\n",
       "    .dataframe tbody tr th:only-of-type {\n",
       "        vertical-align: middle;\n",
       "    }\n",
       "\n",
       "    .dataframe tbody tr th {\n",
       "        vertical-align: top;\n",
       "    }\n",
       "\n",
       "    .dataframe thead th {\n",
       "        text-align: right;\n",
       "    }\n",
       "</style>\n",
       "<table border=\"1\" class=\"dataframe\">\n",
       "  <thead>\n",
       "    <tr style=\"text-align: right;\">\n",
       "      <th></th>\n",
       "      <th>OBJECTID</th>\n",
       "      <th>LSOA11CD</th>\n",
       "      <th>LSOA11NM</th>\n",
       "      <th>LSOA11NMW</th>\n",
       "      <th>Shape__Are</th>\n",
       "      <th>Shape__Len</th>\n",
       "      <th>Area</th>\n",
       "    </tr>\n",
       "  </thead>\n",
       "  <tbody>\n",
       "    <tr>\n",
       "      <th>0</th>\n",
       "      <td>1</td>\n",
       "      <td>E01000001</td>\n",
       "      <td>City of London 001A</td>\n",
       "      <td>City of London 001A</td>\n",
       "      <td>129865.337669</td>\n",
       "      <td>2635.781429</td>\n",
       "      <td>32.638</td>\n",
       "    </tr>\n",
       "    <tr>\n",
       "      <th>1</th>\n",
       "      <td>2</td>\n",
       "      <td>E01000002</td>\n",
       "      <td>City of London 001B</td>\n",
       "      <td>City of London 001B</td>\n",
       "      <td>228419.333099</td>\n",
       "      <td>2708.052040</td>\n",
       "      <td>8856.764</td>\n",
       "    </tr>\n",
       "    <tr>\n",
       "      <th>2</th>\n",
       "      <td>3</td>\n",
       "      <td>E01000003</td>\n",
       "      <td>City of London 001C</td>\n",
       "      <td>City of London 001C</td>\n",
       "      <td>59054.013168</td>\n",
       "      <td>1224.770897</td>\n",
       "      <td>366.142</td>\n",
       "    </tr>\n",
       "    <tr>\n",
       "      <th>3</th>\n",
       "      <td>7</td>\n",
       "      <td>E01000008</td>\n",
       "      <td>Barking and Dagenham 015B</td>\n",
       "      <td>Barking and Dagenham 015B</td>\n",
       "      <td>195064.797699</td>\n",
       "      <td>4135.125164</td>\n",
       "      <td>1957.608</td>\n",
       "    </tr>\n",
       "    <tr>\n",
       "      <th>4</th>\n",
       "      <td>10</td>\n",
       "      <td>E01000011</td>\n",
       "      <td>Barking and Dagenham 016C</td>\n",
       "      <td>Barking and Dagenham 016C</td>\n",
       "      <td>91630.550575</td>\n",
       "      <td>1543.254615</td>\n",
       "      <td>383.622</td>\n",
       "    </tr>\n",
       "  </tbody>\n",
       "</table>\n",
       "</div>"
      ],
      "text/plain": [
       "   OBJECTID   LSOA11CD                   LSOA11NM                  LSOA11NMW  \\\n",
       "0         1  E01000001        City of London 001A        City of London 001A   \n",
       "1         2  E01000002        City of London 001B        City of London 001B   \n",
       "2         3  E01000003        City of London 001C        City of London 001C   \n",
       "3         7  E01000008  Barking and Dagenham 015B  Barking and Dagenham 015B   \n",
       "4        10  E01000011  Barking and Dagenham 016C  Barking and Dagenham 016C   \n",
       "\n",
       "      Shape__Are   Shape__Len      Area  \n",
       "0  129865.337669  2635.781429    32.638  \n",
       "1  228419.333099  2708.052040  8856.764  \n",
       "2   59054.013168  1224.770897   366.142  \n",
       "3  195064.797699  4135.125164  1957.608  \n",
       "4   91630.550575  1543.254615   383.622  "
      ]
     },
     "execution_count": 10,
     "metadata": {},
     "output_type": "execute_result"
    }
   ],
   "source": [
    "natural.head()"
   ]
  },
  {
   "cell_type": "code",
   "execution_count": 20,
   "id": "6034361f-994e-41ce-8172-31df571d044c",
   "metadata": {},
   "outputs": [],
   "source": [
    "parks = pd.read_csv('GS_Parks_Edit.csv')"
   ]
  },
  {
   "cell_type": "code",
   "execution_count": 21,
   "id": "da435f6c-501f-490f-a4de-29285975675e",
   "metadata": {},
   "outputs": [
    {
     "data": {
      "text/html": [
       "<div>\n",
       "<style scoped>\n",
       "    .dataframe tbody tr th:only-of-type {\n",
       "        vertical-align: middle;\n",
       "    }\n",
       "\n",
       "    .dataframe tbody tr th {\n",
       "        vertical-align: top;\n",
       "    }\n",
       "\n",
       "    .dataframe thead th {\n",
       "        text-align: right;\n",
       "    }\n",
       "</style>\n",
       "<table border=\"1\" class=\"dataframe\">\n",
       "  <thead>\n",
       "    <tr style=\"text-align: right;\">\n",
       "      <th></th>\n",
       "      <th>OBJECTID</th>\n",
       "      <th>LSOA11CD</th>\n",
       "      <th>LSOA11NM</th>\n",
       "      <th>LSOA11NMW</th>\n",
       "      <th>Shape__Are</th>\n",
       "      <th>Shape__Len</th>\n",
       "      <th>Area</th>\n",
       "    </tr>\n",
       "  </thead>\n",
       "  <tbody>\n",
       "    <tr>\n",
       "      <th>0</th>\n",
       "      <td>6409</td>\n",
       "      <td>E01006577</td>\n",
       "      <td>Liverpool 034C</td>\n",
       "      <td>Liverpool 034C</td>\n",
       "      <td>377258.075829</td>\n",
       "      <td>3347.700025</td>\n",
       "      <td>1712.28435</td>\n",
       "    </tr>\n",
       "    <tr>\n",
       "      <th>1</th>\n",
       "      <td>6374</td>\n",
       "      <td>E01006539</td>\n",
       "      <td>Liverpool 047B</td>\n",
       "      <td>Liverpool 047B</td>\n",
       "      <td>855312.532181</td>\n",
       "      <td>4122.723589</td>\n",
       "      <td>306624.72571</td>\n",
       "    </tr>\n",
       "    <tr>\n",
       "      <th>2</th>\n",
       "      <td>6592</td>\n",
       "      <td>E01006774</td>\n",
       "      <td>Liverpool 036E</td>\n",
       "      <td>Liverpool 036E</td>\n",
       "      <td>245399.756279</td>\n",
       "      <td>4447.291992</td>\n",
       "      <td>406.33295</td>\n",
       "    </tr>\n",
       "    <tr>\n",
       "      <th>3</th>\n",
       "      <td>6610</td>\n",
       "      <td>E01006794</td>\n",
       "      <td>Liverpool 046B</td>\n",
       "      <td>Liverpool 046B</td>\n",
       "      <td>455504.442162</td>\n",
       "      <td>5152.160406</td>\n",
       "      <td>25163.86291</td>\n",
       "    </tr>\n",
       "    <tr>\n",
       "      <th>4</th>\n",
       "      <td>6412</td>\n",
       "      <td>E01006580</td>\n",
       "      <td>Liverpool 036B</td>\n",
       "      <td>Liverpool 036B</td>\n",
       "      <td>378033.340240</td>\n",
       "      <td>3204.390176</td>\n",
       "      <td>41323.96329</td>\n",
       "    </tr>\n",
       "  </tbody>\n",
       "</table>\n",
       "</div>"
      ],
      "text/plain": [
       "   OBJECTID   LSOA11CD        LSOA11NM       LSOA11NMW     Shape__Are  \\\n",
       "0      6409  E01006577  Liverpool 034C  Liverpool 034C  377258.075829   \n",
       "1      6374  E01006539  Liverpool 047B  Liverpool 047B  855312.532181   \n",
       "2      6592  E01006774  Liverpool 036E  Liverpool 036E  245399.756279   \n",
       "3      6610  E01006794  Liverpool 046B  Liverpool 046B  455504.442162   \n",
       "4      6412  E01006580  Liverpool 036B  Liverpool 036B  378033.340240   \n",
       "\n",
       "    Shape__Len          Area  \n",
       "0  3347.700025    1712.28435  \n",
       "1  4122.723589  306624.72571  \n",
       "2  4447.291992     406.33295  \n",
       "3  5152.160406   25163.86291  \n",
       "4  3204.390176   41323.96329  "
      ]
     },
     "execution_count": 21,
     "metadata": {},
     "output_type": "execute_result"
    }
   ],
   "source": [
    "parks.head()"
   ]
  },
  {
   "cell_type": "code",
   "execution_count": 28,
   "id": "976ac2f8-aab2-4d86-82c4-e7793a62612d",
   "metadata": {},
   "outputs": [],
   "source": [
    "otherlon = pd.read_csv('GS_Other_Lon_Edit.csv')"
   ]
  },
  {
   "cell_type": "code",
   "execution_count": 35,
   "id": "396a7c2f-3638-49bb-8d44-8d3512954132",
   "metadata": {},
   "outputs": [],
   "source": [
    "othernotlon = pd.read_csv('GS_Other_NOTLondon_Edit.csv')"
   ]
  },
  {
   "cell_type": "code",
   "execution_count": 29,
   "id": "ec561116-e1ba-4f11-a249-5fe7ed1e1fb3",
   "metadata": {},
   "outputs": [
    {
     "data": {
      "text/html": [
       "<div>\n",
       "<style scoped>\n",
       "    .dataframe tbody tr th:only-of-type {\n",
       "        vertical-align: middle;\n",
       "    }\n",
       "\n",
       "    .dataframe tbody tr th {\n",
       "        vertical-align: top;\n",
       "    }\n",
       "\n",
       "    .dataframe thead th {\n",
       "        text-align: right;\n",
       "    }\n",
       "</style>\n",
       "<table border=\"1\" class=\"dataframe\">\n",
       "  <thead>\n",
       "    <tr style=\"text-align: right;\">\n",
       "      <th></th>\n",
       "      <th>OBJECTID</th>\n",
       "      <th>LSOA11CD</th>\n",
       "      <th>LSOA11NM</th>\n",
       "      <th>LSOA11NMW</th>\n",
       "      <th>Shape__Are</th>\n",
       "      <th>Shape__Len</th>\n",
       "      <th>Area</th>\n",
       "    </tr>\n",
       "  </thead>\n",
       "  <tbody>\n",
       "    <tr>\n",
       "      <th>0</th>\n",
       "      <td>195</td>\n",
       "      <td>E01000199</td>\n",
       "      <td>Barnet 025B</td>\n",
       "      <td>Barnet 025B</td>\n",
       "      <td>3.380862e+05</td>\n",
       "      <td>4082.191756</td>\n",
       "      <td>33323.28884</td>\n",
       "    </tr>\n",
       "    <tr>\n",
       "      <th>1</th>\n",
       "      <td>258</td>\n",
       "      <td>E01000262</td>\n",
       "      <td>Barnet 017D</td>\n",
       "      <td>Barnet 017D</td>\n",
       "      <td>2.209581e+06</td>\n",
       "      <td>9856.607209</td>\n",
       "      <td>963661.72991</td>\n",
       "    </tr>\n",
       "    <tr>\n",
       "      <th>2</th>\n",
       "      <td>279</td>\n",
       "      <td>E01000283</td>\n",
       "      <td>Barnet 012C</td>\n",
       "      <td>Barnet 012C</td>\n",
       "      <td>3.305429e+05</td>\n",
       "      <td>4473.084544</td>\n",
       "      <td>22542.36808</td>\n",
       "    </tr>\n",
       "    <tr>\n",
       "      <th>3</th>\n",
       "      <td>276</td>\n",
       "      <td>E01000280</td>\n",
       "      <td>Barnet 007D</td>\n",
       "      <td>Barnet 007D</td>\n",
       "      <td>1.016103e+06</td>\n",
       "      <td>5545.408320</td>\n",
       "      <td>19490.51030</td>\n",
       "    </tr>\n",
       "    <tr>\n",
       "      <th>4</th>\n",
       "      <td>285</td>\n",
       "      <td>E01000289</td>\n",
       "      <td>Barnet 004D</td>\n",
       "      <td>Barnet 004D</td>\n",
       "      <td>2.811999e+05</td>\n",
       "      <td>3287.721871</td>\n",
       "      <td>59972.46614</td>\n",
       "    </tr>\n",
       "  </tbody>\n",
       "</table>\n",
       "</div>"
      ],
      "text/plain": [
       "   OBJECTID   LSOA11CD     LSOA11NM    LSOA11NMW    Shape__Are   Shape__Len  \\\n",
       "0       195  E01000199  Barnet 025B  Barnet 025B  3.380862e+05  4082.191756   \n",
       "1       258  E01000262  Barnet 017D  Barnet 017D  2.209581e+06  9856.607209   \n",
       "2       279  E01000283  Barnet 012C  Barnet 012C  3.305429e+05  4473.084544   \n",
       "3       276  E01000280  Barnet 007D  Barnet 007D  1.016103e+06  5545.408320   \n",
       "4       285  E01000289  Barnet 004D  Barnet 004D  2.811999e+05  3287.721871   \n",
       "\n",
       "           Area  \n",
       "0   33323.28884  \n",
       "1  963661.72991  \n",
       "2   22542.36808  \n",
       "3   19490.51030  \n",
       "4   59972.46614  "
      ]
     },
     "execution_count": 29,
     "metadata": {},
     "output_type": "execute_result"
    }
   ],
   "source": [
    "otherlon.head()"
   ]
  },
  {
   "cell_type": "code",
   "execution_count": 36,
   "id": "f61199db-bb8a-4e26-9fc8-804d32219583",
   "metadata": {},
   "outputs": [
    {
     "data": {
      "text/html": [
       "<div>\n",
       "<style scoped>\n",
       "    .dataframe tbody tr th:only-of-type {\n",
       "        vertical-align: middle;\n",
       "    }\n",
       "\n",
       "    .dataframe tbody tr th {\n",
       "        vertical-align: top;\n",
       "    }\n",
       "\n",
       "    .dataframe thead th {\n",
       "        text-align: right;\n",
       "    }\n",
       "</style>\n",
       "<table border=\"1\" class=\"dataframe\">\n",
       "  <thead>\n",
       "    <tr style=\"text-align: right;\">\n",
       "      <th></th>\n",
       "      <th>OBJECTID</th>\n",
       "      <th>LSOA11CD</th>\n",
       "      <th>LSOA11NM</th>\n",
       "      <th>LSOA11NMW</th>\n",
       "      <th>Shape__Are</th>\n",
       "      <th>Shape__Len</th>\n",
       "      <th>Area</th>\n",
       "    </tr>\n",
       "  </thead>\n",
       "  <tbody>\n",
       "    <tr>\n",
       "      <th>0</th>\n",
       "      <td>10534</td>\n",
       "      <td>E01010846</td>\n",
       "      <td>Bradford 055E</td>\n",
       "      <td>Bradford 055E</td>\n",
       "      <td>4.478932e+05</td>\n",
       "      <td>6258.086866</td>\n",
       "      <td>97710.40263</td>\n",
       "    </tr>\n",
       "    <tr>\n",
       "      <th>1</th>\n",
       "      <td>10447</td>\n",
       "      <td>E01010755</td>\n",
       "      <td>Bradford 055B</td>\n",
       "      <td>Bradford 055B</td>\n",
       "      <td>2.659208e+05</td>\n",
       "      <td>2807.825025</td>\n",
       "      <td>25752.11212</td>\n",
       "    </tr>\n",
       "    <tr>\n",
       "      <th>2</th>\n",
       "      <td>10385</td>\n",
       "      <td>E01010693</td>\n",
       "      <td>Bradford 002B</td>\n",
       "      <td>Bradford 002B</td>\n",
       "      <td>1.010691e+06</td>\n",
       "      <td>8388.025224</td>\n",
       "      <td>113621.81920</td>\n",
       "    </tr>\n",
       "    <tr>\n",
       "      <th>3</th>\n",
       "      <td>10533</td>\n",
       "      <td>E01010845</td>\n",
       "      <td>Bradford 059B</td>\n",
       "      <td>Bradford 059B</td>\n",
       "      <td>3.982190e+05</td>\n",
       "      <td>5252.412452</td>\n",
       "      <td>84440.77265</td>\n",
       "    </tr>\n",
       "    <tr>\n",
       "      <th>4</th>\n",
       "      <td>10537</td>\n",
       "      <td>E01010849</td>\n",
       "      <td>Bradford 059C</td>\n",
       "      <td>Bradford 059C</td>\n",
       "      <td>2.351181e+05</td>\n",
       "      <td>3204.891027</td>\n",
       "      <td>17164.21293</td>\n",
       "    </tr>\n",
       "  </tbody>\n",
       "</table>\n",
       "</div>"
      ],
      "text/plain": [
       "   OBJECTID   LSOA11CD       LSOA11NM      LSOA11NMW    Shape__Are  \\\n",
       "0     10534  E01010846  Bradford 055E  Bradford 055E  4.478932e+05   \n",
       "1     10447  E01010755  Bradford 055B  Bradford 055B  2.659208e+05   \n",
       "2     10385  E01010693  Bradford 002B  Bradford 002B  1.010691e+06   \n",
       "3     10533  E01010845  Bradford 059B  Bradford 059B  3.982190e+05   \n",
       "4     10537  E01010849  Bradford 059C  Bradford 059C  2.351181e+05   \n",
       "\n",
       "    Shape__Len          Area  \n",
       "0  6258.086866   97710.40263  \n",
       "1  2807.825025   25752.11212  \n",
       "2  8388.025224  113621.81920  \n",
       "3  5252.412452   84440.77265  \n",
       "4  3204.891027   17164.21293  "
      ]
     },
     "execution_count": 36,
     "metadata": {},
     "output_type": "execute_result"
    }
   ],
   "source": [
    "othernotlon.head()"
   ]
  },
  {
   "cell_type": "markdown",
   "id": "511cb828-ff04-400c-a3d0-ab7c82714de8",
   "metadata": {},
   "source": [
    "<br> <br> <br>\n",
    " \n",
    "# Keeping only Required Columns "
   ]
  },
  {
   "cell_type": "code",
   "execution_count": 71,
   "id": "997edeed-c444-46b5-9bf1-2bfe6823d92e",
   "metadata": {},
   "outputs": [
    {
     "name": "stdout",
     "output_type": "stream",
     "text": [
      "<class 'pandas.core.frame.DataFrame'>\n",
      "RangeIndex: 160294 entries, 0 to 160293\n",
      "Data columns (total 10 columns):\n",
      " #   Column      Non-Null Count   Dtype  \n",
      "---  ------      --------------   -----  \n",
      " 0   OBJECTID    160294 non-null  int64  \n",
      " 1   LSOA11CD    160294 non-null  object \n",
      " 2   LSOA11NM    160294 non-null  object \n",
      " 3   LSOA11NMW   160294 non-null  object \n",
      " 4   Shape__Are  160294 non-null  float64\n",
      " 5   Shape__Len  160293 non-null  float64\n",
      " 6   priFunc     160293 non-null  object \n",
      " 7   Type        160293 non-null  object \n",
      " 8   OBJECTID_2  158185 non-null  float64\n",
      " 9   Area        160293 non-null  float64\n",
      "dtypes: float64(4), int64(1), object(5)\n",
      "memory usage: 12.2+ MB\n"
     ]
    }
   ],
   "source": [
    "sports.info()"
   ]
  },
  {
   "cell_type": "code",
   "execution_count": 13,
   "id": "17f17939-7352-41dc-b7f9-1679ba3add27",
   "metadata": {},
   "outputs": [],
   "source": [
    "sports_simp = sports[['LSOA11CD', 'Area']]"
   ]
  },
  {
   "cell_type": "code",
   "execution_count": 7,
   "id": "0f8fda21-2ebf-4c24-a743-1f9d063962b1",
   "metadata": {},
   "outputs": [],
   "source": [
    "natural_simp = natural[['LSOA11CD','Area']]"
   ]
  },
  {
   "cell_type": "code",
   "execution_count": 22,
   "id": "6f2651f9-2ffa-4ff5-9cd4-8a6f73824433",
   "metadata": {},
   "outputs": [],
   "source": [
    "parks_simp = parks[['LSOA11CD', 'Area']]"
   ]
  },
  {
   "cell_type": "code",
   "execution_count": 30,
   "id": "12bbc3d9-ed69-45a1-8593-a921bfa6294c",
   "metadata": {},
   "outputs": [],
   "source": [
    "otherlon_simp = otherlon[['LSOA11CD', 'Area']]"
   ]
  },
  {
   "cell_type": "code",
   "execution_count": 37,
   "id": "d6ff9ddf-706a-4ae2-8350-4e9120c27ed9",
   "metadata": {},
   "outputs": [],
   "source": [
    "othernotlon_simp = othernotlon[['LSOA11CD', 'Area']]"
   ]
  },
  {
   "cell_type": "markdown",
   "id": "ac2484aa-e39c-42e7-9bda-85ec207882f3",
   "metadata": {},
   "source": [
    "<br><br><br>\n",
    "\n",
    "# Aggregating by LSOA"
   ]
  },
  {
   "cell_type": "code",
   "execution_count": 14,
   "id": "6f86f227-222e-41b0-aaa5-afa270dc64de",
   "metadata": {},
   "outputs": [],
   "source": [
    "sports_agg = sports_simp.groupby(['LSOA11CD'], as_index = False).sum()"
   ]
  },
  {
   "cell_type": "code",
   "execution_count": 15,
   "id": "3130c9b3-53a6-4817-9426-36d48564290e",
   "metadata": {},
   "outputs": [
    {
     "data": {
      "text/html": [
       "<div>\n",
       "<style scoped>\n",
       "    .dataframe tbody tr th:only-of-type {\n",
       "        vertical-align: middle;\n",
       "    }\n",
       "\n",
       "    .dataframe tbody tr th {\n",
       "        vertical-align: top;\n",
       "    }\n",
       "\n",
       "    .dataframe thead th {\n",
       "        text-align: right;\n",
       "    }\n",
       "</style>\n",
       "<table border=\"1\" class=\"dataframe\">\n",
       "  <thead>\n",
       "    <tr style=\"text-align: right;\">\n",
       "      <th></th>\n",
       "      <th>LSOA11CD</th>\n",
       "      <th>Area</th>\n",
       "    </tr>\n",
       "  </thead>\n",
       "  <tbody>\n",
       "    <tr>\n",
       "      <th>0</th>\n",
       "      <td>E01000001</td>\n",
       "      <td>2536.14772</td>\n",
       "    </tr>\n",
       "    <tr>\n",
       "      <th>1</th>\n",
       "      <td>E01000003</td>\n",
       "      <td>3733.85104</td>\n",
       "    </tr>\n",
       "    <tr>\n",
       "      <th>2</th>\n",
       "      <td>E01000005</td>\n",
       "      <td>247.36556</td>\n",
       "    </tr>\n",
       "    <tr>\n",
       "      <th>3</th>\n",
       "      <td>E01000007</td>\n",
       "      <td>197.71030</td>\n",
       "    </tr>\n",
       "    <tr>\n",
       "      <th>4</th>\n",
       "      <td>E01000008</td>\n",
       "      <td>464.64081</td>\n",
       "    </tr>\n",
       "  </tbody>\n",
       "</table>\n",
       "</div>"
      ],
      "text/plain": [
       "    LSOA11CD        Area\n",
       "0  E01000001  2536.14772\n",
       "1  E01000003  3733.85104\n",
       "2  E01000005   247.36556\n",
       "3  E01000007   197.71030\n",
       "4  E01000008   464.64081"
      ]
     },
     "execution_count": 15,
     "metadata": {},
     "output_type": "execute_result"
    }
   ],
   "source": [
    "sports_agg.head()"
   ]
  },
  {
   "cell_type": "code",
   "execution_count": 8,
   "id": "570a3417-371a-4e70-b713-d353c2c88dca",
   "metadata": {},
   "outputs": [],
   "source": [
    "natural_agg = natural_simp.groupby(['LSOA11CD'], as_index = False).sum()"
   ]
  },
  {
   "cell_type": "code",
   "execution_count": 9,
   "id": "350a2fb1-39d1-4bcd-86c3-00e11f82aab8",
   "metadata": {},
   "outputs": [
    {
     "data": {
      "text/html": [
       "<div>\n",
       "<style scoped>\n",
       "    .dataframe tbody tr th:only-of-type {\n",
       "        vertical-align: middle;\n",
       "    }\n",
       "\n",
       "    .dataframe tbody tr th {\n",
       "        vertical-align: top;\n",
       "    }\n",
       "\n",
       "    .dataframe thead th {\n",
       "        text-align: right;\n",
       "    }\n",
       "</style>\n",
       "<table border=\"1\" class=\"dataframe\">\n",
       "  <thead>\n",
       "    <tr style=\"text-align: right;\">\n",
       "      <th></th>\n",
       "      <th>LSOA11CD</th>\n",
       "      <th>Area</th>\n",
       "    </tr>\n",
       "  </thead>\n",
       "  <tbody>\n",
       "    <tr>\n",
       "      <th>0</th>\n",
       "      <td>E01000001</td>\n",
       "      <td>32.638</td>\n",
       "    </tr>\n",
       "    <tr>\n",
       "      <th>1</th>\n",
       "      <td>E01000002</td>\n",
       "      <td>8856.764</td>\n",
       "    </tr>\n",
       "    <tr>\n",
       "      <th>2</th>\n",
       "      <td>E01000003</td>\n",
       "      <td>366.142</td>\n",
       "    </tr>\n",
       "    <tr>\n",
       "      <th>3</th>\n",
       "      <td>E01000008</td>\n",
       "      <td>1957.608</td>\n",
       "    </tr>\n",
       "    <tr>\n",
       "      <th>4</th>\n",
       "      <td>E01000011</td>\n",
       "      <td>383.622</td>\n",
       "    </tr>\n",
       "  </tbody>\n",
       "</table>\n",
       "</div>"
      ],
      "text/plain": [
       "    LSOA11CD      Area\n",
       "0  E01000001    32.638\n",
       "1  E01000002  8856.764\n",
       "2  E01000003   366.142\n",
       "3  E01000008  1957.608\n",
       "4  E01000011   383.622"
      ]
     },
     "execution_count": 9,
     "metadata": {},
     "output_type": "execute_result"
    }
   ],
   "source": [
    "natural_agg.head()"
   ]
  },
  {
   "cell_type": "code",
   "execution_count": 23,
   "id": "b46ec0fa-22ec-4445-af79-8035cfb19a2a",
   "metadata": {},
   "outputs": [],
   "source": [
    "parks_agg = parks_simp.groupby(['LSOA11CD'], as_index = False).sum()"
   ]
  },
  {
   "cell_type": "code",
   "execution_count": 24,
   "id": "fdd8da8a-d438-446b-bc9b-5ecc67b72cc3",
   "metadata": {},
   "outputs": [
    {
     "data": {
      "text/html": [
       "<div>\n",
       "<style scoped>\n",
       "    .dataframe tbody tr th:only-of-type {\n",
       "        vertical-align: middle;\n",
       "    }\n",
       "\n",
       "    .dataframe tbody tr th {\n",
       "        vertical-align: top;\n",
       "    }\n",
       "\n",
       "    .dataframe thead th {\n",
       "        text-align: right;\n",
       "    }\n",
       "</style>\n",
       "<table border=\"1\" class=\"dataframe\">\n",
       "  <thead>\n",
       "    <tr style=\"text-align: right;\">\n",
       "      <th></th>\n",
       "      <th>LSOA11CD</th>\n",
       "      <th>Area</th>\n",
       "    </tr>\n",
       "  </thead>\n",
       "  <tbody>\n",
       "    <tr>\n",
       "      <th>0</th>\n",
       "      <td>E01000001</td>\n",
       "      <td>2582.93390</td>\n",
       "    </tr>\n",
       "    <tr>\n",
       "      <th>1</th>\n",
       "      <td>E01000005</td>\n",
       "      <td>1538.83062</td>\n",
       "    </tr>\n",
       "    <tr>\n",
       "      <th>2</th>\n",
       "      <td>E01000009</td>\n",
       "      <td>22.52817</td>\n",
       "    </tr>\n",
       "    <tr>\n",
       "      <th>3</th>\n",
       "      <td>E01000010</td>\n",
       "      <td>38189.31363</td>\n",
       "    </tr>\n",
       "    <tr>\n",
       "      <th>4</th>\n",
       "      <td>E01000011</td>\n",
       "      <td>9579.57566</td>\n",
       "    </tr>\n",
       "  </tbody>\n",
       "</table>\n",
       "</div>"
      ],
      "text/plain": [
       "    LSOA11CD         Area\n",
       "0  E01000001   2582.93390\n",
       "1  E01000005   1538.83062\n",
       "2  E01000009     22.52817\n",
       "3  E01000010  38189.31363\n",
       "4  E01000011   9579.57566"
      ]
     },
     "execution_count": 24,
     "metadata": {},
     "output_type": "execute_result"
    }
   ],
   "source": [
    "parks_agg.head()"
   ]
  },
  {
   "cell_type": "code",
   "execution_count": 31,
   "id": "6b5c4089-b841-40fe-89c3-d6343a40ea29",
   "metadata": {},
   "outputs": [],
   "source": [
    "otherlon_agg = otherlon_simp.groupby(['LSOA11CD'], as_index = False).sum()"
   ]
  },
  {
   "cell_type": "code",
   "execution_count": 32,
   "id": "34b04770-4078-4e4d-80b1-11a426dc5e0e",
   "metadata": {},
   "outputs": [
    {
     "data": {
      "text/html": [
       "<div>\n",
       "<style scoped>\n",
       "    .dataframe tbody tr th:only-of-type {\n",
       "        vertical-align: middle;\n",
       "    }\n",
       "\n",
       "    .dataframe tbody tr th {\n",
       "        vertical-align: top;\n",
       "    }\n",
       "\n",
       "    .dataframe thead th {\n",
       "        text-align: right;\n",
       "    }\n",
       "</style>\n",
       "<table border=\"1\" class=\"dataframe\">\n",
       "  <thead>\n",
       "    <tr style=\"text-align: right;\">\n",
       "      <th></th>\n",
       "      <th>LSOA11CD</th>\n",
       "      <th>Area</th>\n",
       "    </tr>\n",
       "  </thead>\n",
       "  <tbody>\n",
       "    <tr>\n",
       "      <th>0</th>\n",
       "      <td>E01000001</td>\n",
       "      <td>10992.60819</td>\n",
       "    </tr>\n",
       "    <tr>\n",
       "      <th>1</th>\n",
       "      <td>E01000002</td>\n",
       "      <td>23719.80642</td>\n",
       "    </tr>\n",
       "    <tr>\n",
       "      <th>2</th>\n",
       "      <td>E01000003</td>\n",
       "      <td>8305.13093</td>\n",
       "    </tr>\n",
       "    <tr>\n",
       "      <th>3</th>\n",
       "      <td>E01000005</td>\n",
       "      <td>21707.93880</td>\n",
       "    </tr>\n",
       "    <tr>\n",
       "      <th>4</th>\n",
       "      <td>E01000006</td>\n",
       "      <td>8025.92023</td>\n",
       "    </tr>\n",
       "  </tbody>\n",
       "</table>\n",
       "</div>"
      ],
      "text/plain": [
       "    LSOA11CD         Area\n",
       "0  E01000001  10992.60819\n",
       "1  E01000002  23719.80642\n",
       "2  E01000003   8305.13093\n",
       "3  E01000005  21707.93880\n",
       "4  E01000006   8025.92023"
      ]
     },
     "execution_count": 32,
     "metadata": {},
     "output_type": "execute_result"
    }
   ],
   "source": [
    "otherlon_agg.head()"
   ]
  },
  {
   "cell_type": "code",
   "execution_count": 38,
   "id": "cb57dbd3-78b3-486c-a735-d1abb066da68",
   "metadata": {},
   "outputs": [],
   "source": [
    "othernotlon_agg = othernotlon_simp.groupby(['LSOA11CD'], as_index = False).sum()"
   ]
  },
  {
   "cell_type": "code",
   "execution_count": 39,
   "id": "18cad9a0-d55a-46dc-b739-73fed705959a",
   "metadata": {},
   "outputs": [
    {
     "data": {
      "text/html": [
       "<div>\n",
       "<style scoped>\n",
       "    .dataframe tbody tr th:only-of-type {\n",
       "        vertical-align: middle;\n",
       "    }\n",
       "\n",
       "    .dataframe tbody tr th {\n",
       "        vertical-align: top;\n",
       "    }\n",
       "\n",
       "    .dataframe thead th {\n",
       "        text-align: right;\n",
       "    }\n",
       "</style>\n",
       "<table border=\"1\" class=\"dataframe\">\n",
       "  <thead>\n",
       "    <tr style=\"text-align: right;\">\n",
       "      <th></th>\n",
       "      <th>LSOA11CD</th>\n",
       "      <th>Area</th>\n",
       "    </tr>\n",
       "  </thead>\n",
       "  <tbody>\n",
       "    <tr>\n",
       "      <th>0</th>\n",
       "      <td>E01005061</td>\n",
       "      <td>155956.35300</td>\n",
       "    </tr>\n",
       "    <tr>\n",
       "      <th>1</th>\n",
       "      <td>E01005062</td>\n",
       "      <td>157668.28710</td>\n",
       "    </tr>\n",
       "    <tr>\n",
       "      <th>2</th>\n",
       "      <td>E01005063</td>\n",
       "      <td>58478.92806</td>\n",
       "    </tr>\n",
       "    <tr>\n",
       "      <th>3</th>\n",
       "      <td>E01005065</td>\n",
       "      <td>133293.58420</td>\n",
       "    </tr>\n",
       "    <tr>\n",
       "      <th>4</th>\n",
       "      <td>E01005066</td>\n",
       "      <td>41116.11909</td>\n",
       "    </tr>\n",
       "  </tbody>\n",
       "</table>\n",
       "</div>"
      ],
      "text/plain": [
       "    LSOA11CD          Area\n",
       "0  E01005061  155956.35300\n",
       "1  E01005062  157668.28710\n",
       "2  E01005063   58478.92806\n",
       "3  E01005065  133293.58420\n",
       "4  E01005066   41116.11909"
      ]
     },
     "execution_count": 39,
     "metadata": {},
     "output_type": "execute_result"
    }
   ],
   "source": [
    "othernotlon_agg.head()"
   ]
  },
  {
   "cell_type": "code",
   "execution_count": 42,
   "id": "2e4e52aa-7834-48fd-aa79-9fa12980834d",
   "metadata": {},
   "outputs": [
    {
     "name": "stdout",
     "output_type": "stream",
     "text": [
      "<class 'pandas.core.frame.DataFrame'>\n",
      "Int64Index: 27503 entries, 0 to 27502\n",
      "Data columns (total 2 columns):\n",
      " #   Column    Non-Null Count  Dtype  \n",
      "---  ------    --------------  -----  \n",
      " 0   LSOA11CD  27503 non-null  object \n",
      " 1   Area      27503 non-null  float64\n",
      "dtypes: float64(1), object(1)\n",
      "memory usage: 644.6+ KB\n"
     ]
    }
   ],
   "source": [
    "other_agg.info()"
   ]
  },
  {
   "cell_type": "markdown",
   "id": "9ca14672-9db4-4f79-954e-b92204ae2a58",
   "metadata": {},
   "source": [
    "<br> <br> <br>\n",
    "# Save Outputs"
   ]
  },
  {
   "cell_type": "code",
   "execution_count": 16,
   "id": "1e7a7259-40d3-40f1-a9a5-a09c4b7f8f55",
   "metadata": {},
   "outputs": [],
   "source": [
    "sports_agg.to_csv('Sports_agg.csv')"
   ]
  },
  {
   "cell_type": "code",
   "execution_count": 10,
   "id": "b0bac0ef-d07b-4072-9b05-b4c6d9a2504f",
   "metadata": {},
   "outputs": [],
   "source": [
    "natural_agg.to_csv('Natural_agg.csv')"
   ]
  },
  {
   "cell_type": "code",
   "execution_count": 25,
   "id": "917bf318-3317-4aa6-978f-8d9bec07e081",
   "metadata": {},
   "outputs": [],
   "source": [
    "parks_agg.to_csv('Parks_agg.csv')"
   ]
  },
  {
   "cell_type": "code",
   "execution_count": 33,
   "id": "f0cf35de-22cc-445c-bfa8-257149bcc013",
   "metadata": {},
   "outputs": [],
   "source": [
    "otherlon_agg.to_csv('Otherlon_agg.csv')"
   ]
  },
  {
   "cell_type": "code",
   "execution_count": 40,
   "id": "756c9e98-8981-424b-ad11-22ba01de0057",
   "metadata": {},
   "outputs": [],
   "source": [
    "othernotlon_agg.to_csv('Othernotlon_agg.csv')"
   ]
  },
  {
   "cell_type": "markdown",
   "id": "6d6b6522-afd0-45bb-8b86-7e36c3f152fc",
   "metadata": {},
   "source": [
    "<br><Br><br>\n",
    "\n",
    "# Compare file lengths"
   ]
  },
  {
   "cell_type": "code",
   "execution_count": 58,
   "id": "36989553-cf38-4850-aeeb-861f722a2281",
   "metadata": {},
   "outputs": [
    {
     "name": "stdout",
     "output_type": "stream",
     "text": [
      "<class 'pandas.core.frame.DataFrame'>\n",
      "RangeIndex: 69966 entries, 0 to 69965\n",
      "Data columns (total 2 columns):\n",
      " #   Column    Non-Null Count  Dtype  \n",
      "---  ------    --------------  -----  \n",
      " 0   LSOA11CD  69966 non-null  object \n",
      " 1   Area      69966 non-null  float64\n",
      "dtypes: float64(1), object(1)\n",
      "memory usage: 1.1+ MB\n"
     ]
    }
   ],
   "source": [
    "sports_simp.info()"
   ]
  },
  {
   "cell_type": "code",
   "execution_count": 59,
   "id": "5fb1d5a6-4196-4143-bc75-5d7c9e2368ee",
   "metadata": {},
   "outputs": [
    {
     "name": "stdout",
     "output_type": "stream",
     "text": [
      "<class 'pandas.core.frame.DataFrame'>\n",
      "Int64Index: 4400 entries, 0 to 4399\n",
      "Data columns (total 2 columns):\n",
      " #   Column    Non-Null Count  Dtype  \n",
      "---  ------    --------------  -----  \n",
      " 0   LSOA11CD  4400 non-null   object \n",
      " 1   Area      4400 non-null   float64\n",
      "dtypes: float64(1), object(1)\n",
      "memory usage: 103.1+ KB\n"
     ]
    }
   ],
   "source": [
    "sports_agg.info()"
   ]
  },
  {
   "cell_type": "code",
   "execution_count": 60,
   "id": "21f69747-6e25-49ae-adc0-1e3db83986f8",
   "metadata": {},
   "outputs": [
    {
     "name": "stdout",
     "output_type": "stream",
     "text": [
      "<class 'pandas.core.frame.DataFrame'>\n",
      "RangeIndex: 3187 entries, 0 to 3186\n",
      "Data columns (total 2 columns):\n",
      " #   Column    Non-Null Count  Dtype  \n",
      "---  ------    --------------  -----  \n",
      " 0   LSOA11CD  3187 non-null   object \n",
      " 1   Area      3187 non-null   float64\n",
      "dtypes: float64(1), object(1)\n",
      "memory usage: 49.9+ KB\n"
     ]
    }
   ],
   "source": [
    "parks_simp.info()"
   ]
  },
  {
   "cell_type": "code",
   "execution_count": 61,
   "id": "8d76baaf-d221-4939-8970-c5c8410e9c14",
   "metadata": {},
   "outputs": [
    {
     "name": "stdout",
     "output_type": "stream",
     "text": [
      "<class 'pandas.core.frame.DataFrame'>\n",
      "Int64Index: 3187 entries, 0 to 3186\n",
      "Data columns (total 2 columns):\n",
      " #   Column    Non-Null Count  Dtype  \n",
      "---  ------    --------------  -----  \n",
      " 0   LSOA11CD  3187 non-null   object \n",
      " 1   Area      3187 non-null   float64\n",
      "dtypes: float64(1), object(1)\n",
      "memory usage: 74.7+ KB\n"
     ]
    }
   ],
   "source": [
    "parks_agg.info()"
   ]
  },
  {
   "cell_type": "code",
   "execution_count": 62,
   "id": "15c64ff8-8786-433e-a54e-3ea9ca96b538",
   "metadata": {},
   "outputs": [
    {
     "name": "stdout",
     "output_type": "stream",
     "text": [
      "<class 'pandas.core.frame.DataFrame'>\n",
      "RangeIndex: 3768 entries, 0 to 3767\n",
      "Data columns (total 2 columns):\n",
      " #   Column    Non-Null Count  Dtype  \n",
      "---  ------    --------------  -----  \n",
      " 0   LSOA11CD  3768 non-null   object \n",
      " 1   Area      3768 non-null   float64\n",
      "dtypes: float64(1), object(1)\n",
      "memory usage: 59.0+ KB\n"
     ]
    }
   ],
   "source": [
    "natural_simp.info()"
   ]
  },
  {
   "cell_type": "code",
   "execution_count": 63,
   "id": "a66400f4-6cb6-4b79-a881-6fb979b49a3e",
   "metadata": {},
   "outputs": [
    {
     "name": "stdout",
     "output_type": "stream",
     "text": [
      "<class 'pandas.core.frame.DataFrame'>\n",
      "Int64Index: 3768 entries, 0 to 3767\n",
      "Data columns (total 2 columns):\n",
      " #   Column    Non-Null Count  Dtype  \n",
      "---  ------    --------------  -----  \n",
      " 0   LSOA11CD  3768 non-null   object \n",
      " 1   Area      3768 non-null   float64\n",
      "dtypes: float64(1), object(1)\n",
      "memory usage: 88.3+ KB\n"
     ]
    }
   ],
   "source": [
    "natural_agg.info()"
   ]
  },
  {
   "cell_type": "code",
   "execution_count": 64,
   "id": "e3b054ca-515a-4b80-8b73-5905c1e59f49",
   "metadata": {},
   "outputs": [
    {
     "name": "stdout",
     "output_type": "stream",
     "text": [
      "<class 'pandas.core.frame.DataFrame'>\n",
      "RangeIndex: 513031 entries, 0 to 513030\n",
      "Data columns (total 2 columns):\n",
      " #   Column    Non-Null Count   Dtype  \n",
      "---  ------    --------------   -----  \n",
      " 0   LSOA11CD  513031 non-null  object \n",
      " 1   Area      513031 non-null  float64\n",
      "dtypes: float64(1), object(1)\n",
      "memory usage: 7.8+ MB\n"
     ]
    }
   ],
   "source": [
    "otherlon_simp.info()"
   ]
  },
  {
   "cell_type": "code",
   "execution_count": 65,
   "id": "49f6d6cc-d9c6-4d7a-b28b-5495ce8e6e30",
   "metadata": {},
   "outputs": [
    {
     "name": "stdout",
     "output_type": "stream",
     "text": [
      "<class 'pandas.core.frame.DataFrame'>\n",
      "Int64Index: 4812 entries, 0 to 4811\n",
      "Data columns (total 2 columns):\n",
      " #   Column    Non-Null Count  Dtype  \n",
      "---  ------    --------------  -----  \n",
      " 0   LSOA11CD  4812 non-null   object \n",
      " 1   Area      4812 non-null   float64\n",
      "dtypes: float64(1), object(1)\n",
      "memory usage: 112.8+ KB\n"
     ]
    }
   ],
   "source": [
    "otherlon_agg.info()"
   ]
  },
  {
   "cell_type": "code",
   "execution_count": 66,
   "id": "686b5d53-27d4-40a9-bb53-354e66fccfa0",
   "metadata": {},
   "outputs": [
    {
     "name": "stdout",
     "output_type": "stream",
     "text": [
      "<class 'pandas.core.frame.DataFrame'>\n",
      "RangeIndex: 785537 entries, 0 to 785536\n",
      "Data columns (total 2 columns):\n",
      " #   Column    Non-Null Count   Dtype  \n",
      "---  ------    --------------   -----  \n",
      " 0   LSOA11CD  785537 non-null  object \n",
      " 1   Area      785537 non-null  float64\n",
      "dtypes: float64(1), object(1)\n",
      "memory usage: 12.0+ MB\n"
     ]
    }
   ],
   "source": [
    "othernotlon_simp.info()"
   ]
  },
  {
   "cell_type": "code",
   "execution_count": 68,
   "id": "1872f1df-ab6a-4e2f-b264-e96a2e655fdf",
   "metadata": {},
   "outputs": [
    {
     "name": "stdout",
     "output_type": "stream",
     "text": [
      "<class 'pandas.core.frame.DataFrame'>\n",
      "Int64Index: 4191 entries, 0 to 4190\n",
      "Data columns (total 2 columns):\n",
      " #   Column    Non-Null Count  Dtype  \n",
      "---  ------    --------------  -----  \n",
      " 0   LSOA11CD  4191 non-null   object \n",
      " 1   Area      4191 non-null   float64\n",
      "dtypes: float64(1), object(1)\n",
      "memory usage: 98.2+ KB\n"
     ]
    }
   ],
   "source": [
    "othernotlon_agg.info()"
   ]
  },
  {
   "cell_type": "code",
   "execution_count": null,
   "id": "88b6d074-4924-43ec-84d7-478fda57990f",
   "metadata": {},
   "outputs": [],
   "source": []
  }
 ],
 "metadata": {
  "kernelspec": {
   "display_name": "Python 3",
   "language": "python",
   "name": "python3"
  },
  "language_info": {
   "codemirror_mode": {
    "name": "ipython",
    "version": 3
   },
   "file_extension": ".py",
   "mimetype": "text/x-python",
   "name": "python",
   "nbconvert_exporter": "python",
   "pygments_lexer": "ipython3",
   "version": "3.8.8"
  }
 },
 "nbformat": 4,
 "nbformat_minor": 5
}
